{
  "nbformat": 4,
  "nbformat_minor": 0,
  "metadata": {
    "colab": {
      "name": "Detectron2-Sort-2DMOT2015-proofs.ipynb",
      "provenance": [],
      "collapsed_sections": [],
      "toc_visible": true,
      "authorship_tag": "ABX9TyMMeTC867fdhCwBqbCC++NI",
      "include_colab_link": true
    },
    "kernelspec": {
      "name": "python3",
      "display_name": "Python 3"
    },
    "accelerator": "GPU"
  },
  "cells": [
    {
      "cell_type": "markdown",
      "metadata": {
        "id": "view-in-github",
        "colab_type": "text"
      },
      "source": [
        "<a href=\"https://colab.research.google.com/github/CarlosLopezNubes5/MOT-Challenge_2015/blob/master/Detectron2_Sort_2DMOT2015_proofs.ipynb\" target=\"_parent\"><img src=\"https://colab.research.google.com/assets/colab-badge.svg\" alt=\"Open In Colab\"/></a>"
      ]
    },
    {
      "cell_type": "markdown",
      "metadata": {
        "id": "Uwha7NUFlhWb",
        "colab_type": "text"
      },
      "source": [
        "# Install dependencies"
      ]
    },
    {
      "cell_type": "code",
      "metadata": {
        "id": "v6r5FGQFQxzF",
        "colab_type": "code",
        "outputId": "c532c5c0-81ec-4768-851c-89211ff3f5c8",
        "colab": {
          "base_uri": "https://localhost:8080/",
          "height": 153
        }
      },
      "source": [
        "!pip install --upgrade pip"
      ],
      "execution_count": 0,
      "outputs": [
        {
          "output_type": "stream",
          "text": [
            "Collecting pip\n",
            "\u001b[?25l  Downloading https://files.pythonhosted.org/packages/54/0c/d01aa759fdc501a58f431eb594a17495f15b88da142ce14b5845662c13f3/pip-20.0.2-py2.py3-none-any.whl (1.4MB)\n",
            "\r\u001b[K     |▎                               | 10kB 23.4MB/s eta 0:00:01\r\u001b[K     |▌                               | 20kB 30.8MB/s eta 0:00:01\r\u001b[K     |▊                               | 30kB 32.8MB/s eta 0:00:01\r\u001b[K     |█                               | 40kB 35.7MB/s eta 0:00:01\r\u001b[K     |█▏                              | 51kB 38.6MB/s eta 0:00:01\r\u001b[K     |█▍                              | 61kB 41.1MB/s eta 0:00:01\r\u001b[K     |█▋                              | 71kB 41.5MB/s eta 0:00:01\r\u001b[K     |█▉                              | 81kB 42.3MB/s eta 0:00:01\r\u001b[K     |██                              | 92kB 44.2MB/s eta 0:00:01\r\u001b[K     |██▎                             | 102kB 45.3MB/s eta 0:00:01\r\u001b[K     |██▌                             | 112kB 45.3MB/s eta 0:00:01\r\u001b[K     |██▊                             | 122kB 45.3MB/s eta 0:00:01\r\u001b[K     |███                             | 133kB 45.3MB/s eta 0:00:01\r\u001b[K     |███▏                            | 143kB 45.3MB/s eta 0:00:01\r\u001b[K     |███▍                            | 153kB 45.3MB/s eta 0:00:01\r\u001b[K     |███▋                            | 163kB 45.3MB/s eta 0:00:01\r\u001b[K     |███▉                            | 174kB 45.3MB/s eta 0:00:01\r\u001b[K     |████                            | 184kB 45.3MB/s eta 0:00:01\r\u001b[K     |████▎                           | 194kB 45.3MB/s eta 0:00:01\r\u001b[K     |████▌                           | 204kB 45.3MB/s eta 0:00:01\r\u001b[K     |████▊                           | 215kB 45.3MB/s eta 0:00:01\r\u001b[K     |█████                           | 225kB 45.3MB/s eta 0:00:01\r\u001b[K     |█████▎                          | 235kB 45.3MB/s eta 0:00:01\r\u001b[K     |█████▌                          | 245kB 45.3MB/s eta 0:00:01\r\u001b[K     |█████▊                          | 256kB 45.3MB/s eta 0:00:01\r\u001b[K     |██████                          | 266kB 45.3MB/s eta 0:00:01\r\u001b[K     |██████▏                         | 276kB 45.3MB/s eta 0:00:01\r\u001b[K     |██████▍                         | 286kB 45.3MB/s eta 0:00:01\r\u001b[K     |██████▋                         | 296kB 45.3MB/s eta 0:00:01\r\u001b[K     |██████▉                         | 307kB 45.3MB/s eta 0:00:01\r\u001b[K     |███████                         | 317kB 45.3MB/s eta 0:00:01\r\u001b[K     |███████▎                        | 327kB 45.3MB/s eta 0:00:01\r\u001b[K     |███████▌                        | 337kB 45.3MB/s eta 0:00:01\r\u001b[K     |███████▊                        | 348kB 45.3MB/s eta 0:00:01\r\u001b[K     |████████                        | 358kB 45.3MB/s eta 0:00:01\r\u001b[K     |████████▏                       | 368kB 45.3MB/s eta 0:00:01\r\u001b[K     |████████▍                       | 378kB 45.3MB/s eta 0:00:01\r\u001b[K     |████████▋                       | 389kB 45.3MB/s eta 0:00:01\r\u001b[K     |████████▉                       | 399kB 45.3MB/s eta 0:00:01\r\u001b[K     |█████████                       | 409kB 45.3MB/s eta 0:00:01\r\u001b[K     |█████████▎                      | 419kB 45.3MB/s eta 0:00:01\r\u001b[K     |█████████▌                      | 430kB 45.3MB/s eta 0:00:01\r\u001b[K     |█████████▉                      | 440kB 45.3MB/s eta 0:00:01\r\u001b[K     |██████████                      | 450kB 45.3MB/s eta 0:00:01\r\u001b[K     |██████████▎                     | 460kB 45.3MB/s eta 0:00:01\r\u001b[K     |██████████▌                     | 471kB 45.3MB/s eta 0:00:01\r\u001b[K     |██████████▊                     | 481kB 45.3MB/s eta 0:00:01\r\u001b[K     |███████████                     | 491kB 45.3MB/s eta 0:00:01\r\u001b[K     |███████████▏                    | 501kB 45.3MB/s eta 0:00:01\r\u001b[K     |███████████▍                    | 512kB 45.3MB/s eta 0:00:01\r\u001b[K     |███████████▋                    | 522kB 45.3MB/s eta 0:00:01\r\u001b[K     |███████████▉                    | 532kB 45.3MB/s eta 0:00:01\r\u001b[K     |████████████                    | 542kB 45.3MB/s eta 0:00:01\r\u001b[K     |████████████▎                   | 552kB 45.3MB/s eta 0:00:01\r\u001b[K     |████████████▌                   | 563kB 45.3MB/s eta 0:00:01\r\u001b[K     |████████████▊                   | 573kB 45.3MB/s eta 0:00:01\r\u001b[K     |█████████████                   | 583kB 45.3MB/s eta 0:00:01\r\u001b[K     |█████████████▏                  | 593kB 45.3MB/s eta 0:00:01\r\u001b[K     |█████████████▍                  | 604kB 45.3MB/s eta 0:00:01\r\u001b[K     |█████████████▋                  | 614kB 45.3MB/s eta 0:00:01\r\u001b[K     |█████████████▉                  | 624kB 45.3MB/s eta 0:00:01\r\u001b[K     |██████████████                  | 634kB 45.3MB/s eta 0:00:01\r\u001b[K     |██████████████▎                 | 645kB 45.3MB/s eta 0:00:01\r\u001b[K     |██████████████▌                 | 655kB 45.3MB/s eta 0:00:01\r\u001b[K     |██████████████▉                 | 665kB 45.3MB/s eta 0:00:01\r\u001b[K     |███████████████                 | 675kB 45.3MB/s eta 0:00:01\r\u001b[K     |███████████████▎                | 686kB 45.3MB/s eta 0:00:01\r\u001b[K     |███████████████▌                | 696kB 45.3MB/s eta 0:00:01\r\u001b[K     |███████████████▊                | 706kB 45.3MB/s eta 0:00:01\r\u001b[K     |████████████████                | 716kB 45.3MB/s eta 0:00:01\r\u001b[K     |████████████████▏               | 727kB 45.3MB/s eta 0:00:01\r\u001b[K     |████████████████▍               | 737kB 45.3MB/s eta 0:00:01\r\u001b[K     |████████████████▋               | 747kB 45.3MB/s eta 0:00:01\r\u001b[K     |████████████████▉               | 757kB 45.3MB/s eta 0:00:01\r\u001b[K     |█████████████████               | 768kB 45.3MB/s eta 0:00:01\r\u001b[K     |█████████████████▎              | 778kB 45.3MB/s eta 0:00:01\r\u001b[K     |█████████████████▌              | 788kB 45.3MB/s eta 0:00:01\r\u001b[K     |█████████████████▊              | 798kB 45.3MB/s eta 0:00:01\r\u001b[K     |██████████████████              | 808kB 45.3MB/s eta 0:00:01\r\u001b[K     |██████████████████▏             | 819kB 45.3MB/s eta 0:00:01\r\u001b[K     |██████████████████▍             | 829kB 45.3MB/s eta 0:00:01\r\u001b[K     |██████████████████▋             | 839kB 45.3MB/s eta 0:00:01\r\u001b[K     |██████████████████▉             | 849kB 45.3MB/s eta 0:00:01\r\u001b[K     |███████████████████             | 860kB 45.3MB/s eta 0:00:01\r\u001b[K     |███████████████████▎            | 870kB 45.3MB/s eta 0:00:01\r\u001b[K     |███████████████████▋            | 880kB 45.3MB/s eta 0:00:01\r\u001b[K     |███████████████████▉            | 890kB 45.3MB/s eta 0:00:01\r\u001b[K     |████████████████████            | 901kB 45.3MB/s eta 0:00:01\r\u001b[K     |████████████████████▎           | 911kB 45.3MB/s eta 0:00:01\r\u001b[K     |████████████████████▌           | 921kB 45.3MB/s eta 0:00:01\r\u001b[K     |████████████████████▊           | 931kB 45.3MB/s eta 0:00:01\r\u001b[K     |█████████████████████           | 942kB 45.3MB/s eta 0:00:01\r\u001b[K     |█████████████████████▏          | 952kB 45.3MB/s eta 0:00:01\r\u001b[K     |█████████████████████▍          | 962kB 45.3MB/s eta 0:00:01\r\u001b[K     |█████████████████████▋          | 972kB 45.3MB/s eta 0:00:01\r\u001b[K     |█████████████████████▉          | 983kB 45.3MB/s eta 0:00:01\r\u001b[K     |██████████████████████          | 993kB 45.3MB/s eta 0:00:01\r\u001b[K     |██████████████████████▎         | 1.0MB 45.3MB/s eta 0:00:01\r\u001b[K     |██████████████████████▌         | 1.0MB 45.3MB/s eta 0:00:01\r\u001b[K     |██████████████████████▊         | 1.0MB 45.3MB/s eta 0:00:01\r\u001b[K     |███████████████████████         | 1.0MB 45.3MB/s eta 0:00:01\r\u001b[K     |███████████████████████▏        | 1.0MB 45.3MB/s eta 0:00:01\r\u001b[K     |███████████████████████▍        | 1.1MB 45.3MB/s eta 0:00:01\r\u001b[K     |███████████████████████▋        | 1.1MB 45.3MB/s eta 0:00:01\r\u001b[K     |███████████████████████▉        | 1.1MB 45.3MB/s eta 0:00:01\r\u001b[K     |████████████████████████        | 1.1MB 45.3MB/s eta 0:00:01\r\u001b[K     |████████████████████████▎       | 1.1MB 45.3MB/s eta 0:00:01\r\u001b[K     |████████████████████████▋       | 1.1MB 45.3MB/s eta 0:00:01\r\u001b[K     |████████████████████████▉       | 1.1MB 45.3MB/s eta 0:00:01\r\u001b[K     |█████████████████████████       | 1.1MB 45.3MB/s eta 0:00:01\r\u001b[K     |█████████████████████████▎      | 1.1MB 45.3MB/s eta 0:00:01\r\u001b[K     |█████████████████████████▌      | 1.1MB 45.3MB/s eta 0:00:01\r\u001b[K     |█████████████████████████▊      | 1.2MB 45.3MB/s eta 0:00:01\r\u001b[K     |██████████████████████████      | 1.2MB 45.3MB/s eta 0:00:01\r\u001b[K     |██████████████████████████▏     | 1.2MB 45.3MB/s eta 0:00:01\r\u001b[K     |██████████████████████████▍     | 1.2MB 45.3MB/s eta 0:00:01\r\u001b[K     |██████████████████████████▋     | 1.2MB 45.3MB/s eta 0:00:01\r\u001b[K     |██████████████████████████▉     | 1.2MB 45.3MB/s eta 0:00:01\r\u001b[K     |███████████████████████████     | 1.2MB 45.3MB/s eta 0:00:01\r\u001b[K     |███████████████████████████▎    | 1.2MB 45.3MB/s eta 0:00:01\r\u001b[K     |███████████████████████████▌    | 1.2MB 45.3MB/s eta 0:00:01\r\u001b[K     |███████████████████████████▊    | 1.2MB 45.3MB/s eta 0:00:01\r\u001b[K     |████████████████████████████    | 1.3MB 45.3MB/s eta 0:00:01\r\u001b[K     |████████████████████████████▏   | 1.3MB 45.3MB/s eta 0:00:01\r\u001b[K     |████████████████████████████▍   | 1.3MB 45.3MB/s eta 0:00:01\r\u001b[K     |████████████████████████████▋   | 1.3MB 45.3MB/s eta 0:00:01\r\u001b[K     |████████████████████████████▉   | 1.3MB 45.3MB/s eta 0:00:01\r\u001b[K     |█████████████████████████████   | 1.3MB 45.3MB/s eta 0:00:01\r\u001b[K     |█████████████████████████████▍  | 1.3MB 45.3MB/s eta 0:00:01\r\u001b[K     |█████████████████████████████▋  | 1.3MB 45.3MB/s eta 0:00:01\r\u001b[K     |█████████████████████████████▉  | 1.3MB 45.3MB/s eta 0:00:01\r\u001b[K     |██████████████████████████████  | 1.4MB 45.3MB/s eta 0:00:01\r\u001b[K     |██████████████████████████████▎ | 1.4MB 45.3MB/s eta 0:00:01\r\u001b[K     |██████████████████████████████▌ | 1.4MB 45.3MB/s eta 0:00:01\r\u001b[K     |██████████████████████████████▊ | 1.4MB 45.3MB/s eta 0:00:01\r\u001b[K     |███████████████████████████████ | 1.4MB 45.3MB/s eta 0:00:01\r\u001b[K     |███████████████████████████████▏| 1.4MB 45.3MB/s eta 0:00:01\r\u001b[K     |███████████████████████████████▍| 1.4MB 45.3MB/s eta 0:00:01\r\u001b[K     |███████████████████████████████▋| 1.4MB 45.3MB/s eta 0:00:01\r\u001b[K     |███████████████████████████████▉| 1.4MB 45.3MB/s eta 0:00:01\r\u001b[K     |████████████████████████████████| 1.4MB 45.3MB/s \n",
            "\u001b[?25hInstalling collected packages: pip\n",
            "  Found existing installation: pip 19.3.1\n",
            "    Uninstalling pip-19.3.1:\n",
            "      Successfully uninstalled pip-19.3.1\n",
            "Successfully installed pip-20.0.2\n"
          ],
          "name": "stdout"
        }
      ]
    },
    {
      "cell_type": "code",
      "metadata": {
        "id": "7WrY-Sp--ar7",
        "colab_type": "code",
        "outputId": "3ead2d83-3b8d-4418-cacc-d3c984a438a3",
        "colab": {
          "base_uri": "https://localhost:8080/",
          "height": 1000
        }
      },
      "source": [
        "# install dependencies:\n",
        "# (use +cu100 because colab is on CUDA 10.0)\n",
        "!pip install -U torch==1.4.0+cu100 torchvision==0.5.0+cu100 -f https://download.pytorch.org/whl/torch_stable.html \n",
        "!pip install cython pyyaml==5.1\n",
        "!pip install -U 'git+https://github.com/cocodataset/cocoapi.git#subdirectory=PythonAPI'\n",
        "import torch, torchvision\n",
        "torch.__version__\n",
        "!gcc --version\n",
        "# opencv is pre-installed on colab"
      ],
      "execution_count": 0,
      "outputs": [
        {
          "output_type": "stream",
          "text": [
            "Looking in links: https://download.pytorch.org/whl/torch_stable.html\n",
            "Collecting torch==1.4.0+cu100\n",
            "  Downloading https://download.pytorch.org/whl/cu100/torch-1.4.0%2Bcu100-cp36-cp36m-linux_x86_64.whl (723.9 MB)\n",
            "\u001b[K     |████████████████████████████████| 723.9 MB 15 kB/s \n",
            "\u001b[?25hCollecting torchvision==0.5.0+cu100\n",
            "  Downloading https://download.pytorch.org/whl/cu100/torchvision-0.5.0%2Bcu100-cp36-cp36m-linux_x86_64.whl (4.0 MB)\n",
            "\u001b[K     |████████████████████████████████| 4.0 MB 41.2 MB/s \n",
            "\u001b[?25hRequirement already satisfied, skipping upgrade: six in /usr/local/lib/python3.6/dist-packages (from torchvision==0.5.0+cu100) (1.12.0)\n",
            "Requirement already satisfied, skipping upgrade: numpy in /usr/local/lib/python3.6/dist-packages (from torchvision==0.5.0+cu100) (1.17.5)\n",
            "Requirement already satisfied, skipping upgrade: pillow>=4.1.1 in /usr/local/lib/python3.6/dist-packages (from torchvision==0.5.0+cu100) (6.2.2)\n",
            "Installing collected packages: torch, torchvision\n",
            "  Attempting uninstall: torch\n",
            "    Found existing installation: torch 1.4.0\n",
            "    Uninstalling torch-1.4.0:\n",
            "      Successfully uninstalled torch-1.4.0\n",
            "  Attempting uninstall: torchvision\n",
            "    Found existing installation: torchvision 0.5.0\n",
            "    Uninstalling torchvision-0.5.0:\n",
            "      Successfully uninstalled torchvision-0.5.0\n",
            "Successfully installed torch-1.4.0+cu100 torchvision-0.5.0+cu100\n",
            "Requirement already satisfied: cython in /usr/local/lib/python3.6/dist-packages (0.29.15)\n",
            "Collecting pyyaml==5.1\n",
            "  Downloading PyYAML-5.1.tar.gz (274 kB)\n",
            "\u001b[K     |████████████████████████████████| 274 kB 30.0 MB/s \n",
            "\u001b[?25hBuilding wheels for collected packages: pyyaml\n",
            "  Building wheel for pyyaml (setup.py) ... \u001b[?25l\u001b[?25hdone\n",
            "  Created wheel for pyyaml: filename=PyYAML-5.1-cp36-cp36m-linux_x86_64.whl size=44074 sha256=53790faf6ae2e5ce43fce0fa9bcefbcba61a625780c65036dd391714a4c5ced9\n",
            "  Stored in directory: /root/.cache/pip/wheels/cb/b2/f5/ca72754568a333674fd4758f5d5674f88431e58fb9837cc565\n",
            "Successfully built pyyaml\n",
            "Installing collected packages: pyyaml\n",
            "  Attempting uninstall: pyyaml\n",
            "    Found existing installation: PyYAML 3.13\n",
            "    Uninstalling PyYAML-3.13:\n",
            "      Successfully uninstalled PyYAML-3.13\n",
            "Successfully installed pyyaml-5.1\n",
            "Collecting git+https://github.com/cocodataset/cocoapi.git#subdirectory=PythonAPI\n",
            "  Cloning https://github.com/cocodataset/cocoapi.git to /tmp/pip-req-build-_xkvq8fk\n",
            "  Running command git clone -q https://github.com/cocodataset/cocoapi.git /tmp/pip-req-build-_xkvq8fk\n",
            "Requirement already satisfied, skipping upgrade: setuptools>=18.0 in /usr/local/lib/python3.6/dist-packages (from pycocotools==2.0) (45.1.0)\n",
            "Requirement already satisfied, skipping upgrade: cython>=0.27.3 in /usr/local/lib/python3.6/dist-packages (from pycocotools==2.0) (0.29.15)\n",
            "Requirement already satisfied, skipping upgrade: matplotlib>=2.1.0 in /usr/local/lib/python3.6/dist-packages (from pycocotools==2.0) (3.1.3)\n",
            "Requirement already satisfied, skipping upgrade: cycler>=0.10 in /usr/local/lib/python3.6/dist-packages (from matplotlib>=2.1.0->pycocotools==2.0) (0.10.0)\n",
            "Requirement already satisfied, skipping upgrade: kiwisolver>=1.0.1 in /usr/local/lib/python3.6/dist-packages (from matplotlib>=2.1.0->pycocotools==2.0) (1.1.0)\n",
            "Requirement already satisfied, skipping upgrade: python-dateutil>=2.1 in /usr/local/lib/python3.6/dist-packages (from matplotlib>=2.1.0->pycocotools==2.0) (2.6.1)\n",
            "Requirement already satisfied, skipping upgrade: numpy>=1.11 in /usr/local/lib/python3.6/dist-packages (from matplotlib>=2.1.0->pycocotools==2.0) (1.17.5)\n",
            "Requirement already satisfied, skipping upgrade: pyparsing!=2.0.4,!=2.1.2,!=2.1.6,>=2.0.1 in /usr/local/lib/python3.6/dist-packages (from matplotlib>=2.1.0->pycocotools==2.0) (2.4.6)\n",
            "Requirement already satisfied, skipping upgrade: six in /usr/local/lib/python3.6/dist-packages (from cycler>=0.10->matplotlib>=2.1.0->pycocotools==2.0) (1.12.0)\n",
            "Building wheels for collected packages: pycocotools\n",
            "  Building wheel for pycocotools (setup.py) ... \u001b[?25l\u001b[?25hdone\n",
            "  Created wheel for pycocotools: filename=pycocotools-2.0-cp36-cp36m-linux_x86_64.whl size=275274 sha256=7f45836fc9ca052499403632f91bba8ddfde22d2eab916c29ed5d3ef3656f14a\n",
            "  Stored in directory: /tmp/pip-ephem-wheel-cache-0jmwitez/wheels/25/c1/63/8bee2969883497d2785c9bdbe4e89cae5efc59521553d528bf\n",
            "Successfully built pycocotools\n",
            "Installing collected packages: pycocotools\n",
            "  Attempting uninstall: pycocotools\n",
            "    Found existing installation: pycocotools 2.0.0\n",
            "    Uninstalling pycocotools-2.0.0:\n",
            "      Successfully uninstalled pycocotools-2.0.0\n",
            "Successfully installed pycocotools-2.0\n",
            "gcc (Ubuntu 7.4.0-1ubuntu1~18.04.1) 7.4.0\n",
            "Copyright (C) 2017 Free Software Foundation, Inc.\n",
            "This is free software; see the source for copying conditions.  There is NO\n",
            "warranty; not even for MERCHANTABILITY or FITNESS FOR A PARTICULAR PURPOSE.\n",
            "\n"
          ],
          "name": "stdout"
        }
      ]
    },
    {
      "cell_type": "markdown",
      "metadata": {
        "id": "3VYEQyYHnWLM",
        "colab_type": "text"
      },
      "source": [
        "# Install Detectron2 by Facebook"
      ]
    },
    {
      "cell_type": "code",
      "metadata": {
        "id": "aFO3lCaS-3GB",
        "colab_type": "code",
        "outputId": "da114cc6-0bcc-46e7-d3dc-ccb8f230097c",
        "colab": {
          "base_uri": "https://localhost:8080/",
          "height": 969
        }
      },
      "source": [
        "# install detectron2:\n",
        "!git clone https://github.com/facebookresearch/detectron2 detectron2_repo\n",
        "!pip install -e detectron2_repo"
      ],
      "execution_count": 0,
      "outputs": [
        {
          "output_type": "stream",
          "text": [
            "Cloning into 'detectron2_repo'...\n",
            "remote: Enumerating objects: 12, done.\u001b[K\n",
            "remote: Counting objects:   8% (1/12)\u001b[K\rremote: Counting objects:  16% (2/12)\u001b[K\rremote: Counting objects:  25% (3/12)\u001b[K\rremote: Counting objects:  33% (4/12)\u001b[K\rremote: Counting objects:  41% (5/12)\u001b[K\rremote: Counting objects:  50% (6/12)\u001b[K\rremote: Counting objects:  58% (7/12)\u001b[K\rremote: Counting objects:  66% (8/12)\u001b[K\rremote: Counting objects:  75% (9/12)\u001b[K\rremote: Counting objects:  83% (10/12)\u001b[K\rremote: Counting objects:  91% (11/12)\u001b[K\rremote: Counting objects: 100% (12/12)\u001b[K\rremote: Counting objects: 100% (12/12), done.\u001b[K\n",
            "remote: Compressing objects:   8% (1/12)\u001b[K\rremote: Compressing objects:  16% (2/12)\u001b[K\rremote: Compressing objects:  25% (3/12)\u001b[K\rremote: Compressing objects:  33% (4/12)\u001b[K\rremote: Compressing objects:  41% (5/12)\u001b[K\rremote: Compressing objects:  50% (6/12)\u001b[K\rremote: Compressing objects:  58% (7/12)\u001b[K\rremote: Compressing objects:  66% (8/12)\u001b[K\rremote: Compressing objects:  75% (9/12)\u001b[K\rremote: Compressing objects:  83% (10/12)\u001b[K\rremote: Compressing objects:  91% (11/12)\u001b[K\rremote: Compressing objects: 100% (12/12)\u001b[K\rremote: Compressing objects: 100% (12/12), done.\u001b[K\n",
            "Receiving objects:   0% (1/2969)   \rReceiving objects:   1% (30/2969)   \rReceiving objects:   2% (60/2969)   \rReceiving objects:   3% (90/2969)   \rReceiving objects:   4% (119/2969)   \rReceiving objects:   5% (149/2969)   \rReceiving objects:   6% (179/2969)   \rReceiving objects:   7% (208/2969)   \rReceiving objects:   8% (238/2969)   \rReceiving objects:   9% (268/2969)   \rReceiving objects:  10% (297/2969)   \rReceiving objects:  11% (327/2969)   \rReceiving objects:  12% (357/2969)   \rReceiving objects:  13% (386/2969)   \rReceiving objects:  14% (416/2969)   \rReceiving objects:  15% (446/2969)   \rReceiving objects:  16% (476/2969)   \rReceiving objects:  17% (505/2969)   \rReceiving objects:  18% (535/2969)   \rReceiving objects:  19% (565/2969)   \rReceiving objects:  20% (594/2969)   \rReceiving objects:  21% (624/2969)   \rReceiving objects:  22% (654/2969)   \rReceiving objects:  23% (683/2969)   \rReceiving objects:  24% (713/2969)   \rReceiving objects:  25% (743/2969)   \rReceiving objects:  26% (772/2969)   \rReceiving objects:  27% (802/2969)   \rReceiving objects:  28% (832/2969)   \rReceiving objects:  29% (862/2969)   \rReceiving objects:  30% (891/2969)   \rReceiving objects:  31% (921/2969)   \rReceiving objects:  32% (951/2969)   \rReceiving objects:  33% (980/2969)   \rReceiving objects:  34% (1010/2969)   \rReceiving objects:  35% (1040/2969)   \rReceiving objects:  36% (1069/2969)   \rReceiving objects:  37% (1099/2969)   \rReceiving objects:  38% (1129/2969)   \rReceiving objects:  39% (1158/2969)   \rReceiving objects:  40% (1188/2969)   \rReceiving objects:  41% (1218/2969)   \rReceiving objects:  42% (1247/2969)   \rReceiving objects:  43% (1277/2969)   \rReceiving objects:  44% (1307/2969)   \rReceiving objects:  45% (1337/2969)   \rReceiving objects:  46% (1366/2969)   \rReceiving objects:  47% (1396/2969)   \rReceiving objects:  48% (1426/2969)   \rReceiving objects:  49% (1455/2969)   \rReceiving objects:  50% (1485/2969)   \rReceiving objects:  51% (1515/2969)   \rReceiving objects:  52% (1544/2969)   \rReceiving objects:  53% (1574/2969)   \rReceiving objects:  54% (1604/2969)   \rReceiving objects:  55% (1633/2969)   \rReceiving objects:  56% (1663/2969)   \rReceiving objects:  57% (1693/2969)   \rReceiving objects:  58% (1723/2969)   \rReceiving objects:  59% (1752/2969)   \rReceiving objects:  60% (1782/2969)   \rReceiving objects:  61% (1812/2969)   \rReceiving objects:  62% (1841/2969)   \rReceiving objects:  63% (1871/2969)   \rReceiving objects:  64% (1901/2969)   \rReceiving objects:  65% (1930/2969)   \rReceiving objects:  66% (1960/2969)   \rReceiving objects:  67% (1990/2969)   \rReceiving objects:  68% (2019/2969)   \rReceiving objects:  69% (2049/2969)   \rReceiving objects:  70% (2079/2969)   \rReceiving objects:  71% (2108/2969)   \rReceiving objects:  72% (2138/2969)   \rReceiving objects:  73% (2168/2969)   \rReceiving objects:  74% (2198/2969)   \rReceiving objects:  75% (2227/2969)   \rReceiving objects:  76% (2257/2969)   \rReceiving objects:  77% (2287/2969)   \rReceiving objects:  78% (2316/2969)   \rReceiving objects:  79% (2346/2969)   \rReceiving objects:  80% (2376/2969)   \rReceiving objects:  81% (2405/2969)   \rReceiving objects:  82% (2435/2969)   \rReceiving objects:  83% (2465/2969)   \rReceiving objects:  84% (2494/2969)   \rReceiving objects:  85% (2524/2969)   \rReceiving objects:  86% (2554/2969)   \rReceiving objects:  87% (2584/2969)   \rReceiving objects:  88% (2613/2969)   \rReceiving objects:  89% (2643/2969)   \rReceiving objects:  90% (2673/2969)   \rReceiving objects:  91% (2702/2969)   \rReceiving objects:  92% (2732/2969)   \rReceiving objects:  93% (2762/2969)   \rReceiving objects:  94% (2791/2969)   \rremote: Total 2969 (delta 0), reused 1 (delta 0), pack-reused 2957\u001b[K\n",
            "Receiving objects:  95% (2821/2969)   \rReceiving objects:  96% (2851/2969)   \rReceiving objects:  97% (2880/2969)   \rReceiving objects:  98% (2910/2969)   \rReceiving objects:  99% (2940/2969)   \rReceiving objects: 100% (2969/2969)   \rReceiving objects: 100% (2969/2969), 2.04 MiB | 28.99 MiB/s, done.\n",
            "Resolving deltas:   0% (0/1996)   \rResolving deltas:   1% (24/1996)   \rResolving deltas:   2% (40/1996)   \rResolving deltas:   3% (70/1996)   \rResolving deltas:   4% (81/1996)   \rResolving deltas:   5% (107/1996)   \rResolving deltas:   6% (135/1996)   \rResolving deltas:   7% (147/1996)   \rResolving deltas:   8% (167/1996)   \rResolving deltas:   9% (180/1996)   \rResolving deltas:  10% (200/1996)   \rResolving deltas:  11% (223/1996)   \rResolving deltas:  12% (246/1996)   \rResolving deltas:  13% (261/1996)   \rResolving deltas:  14% (284/1996)   \rResolving deltas:  15% (301/1996)   \rResolving deltas:  17% (341/1996)   \rResolving deltas:  18% (371/1996)   \rResolving deltas:  20% (404/1996)   \rResolving deltas:  21% (436/1996)   \rResolving deltas:  22% (440/1996)   \rResolving deltas:  23% (464/1996)   \rResolving deltas:  24% (487/1996)   \rResolving deltas:  25% (499/1996)   \rResolving deltas:  26% (520/1996)   \rResolving deltas:  27% (539/1996)   \rResolving deltas:  28% (560/1996)   \rResolving deltas:  29% (580/1996)   \rResolving deltas:  30% (599/1996)   \rResolving deltas:  31% (620/1996)   \rResolving deltas:  32% (641/1996)   \rResolving deltas:  33% (665/1996)   \rResolving deltas:  34% (680/1996)   \rResolving deltas:  35% (699/1996)   \rResolving deltas:  38% (759/1996)   \rResolving deltas:  39% (780/1996)   \rResolving deltas:  40% (804/1996)   \rResolving deltas:  41% (824/1996)   \rResolving deltas:  42% (845/1996)   \rResolving deltas:  44% (881/1996)   \rResolving deltas:  45% (900/1996)   \rResolving deltas:  46% (923/1996)   \rResolving deltas:  47% (939/1996)   \rResolving deltas:  48% (963/1996)   \rResolving deltas:  49% (989/1996)   \rResolving deltas:  50% (1001/1996)   \rResolving deltas:  52% (1042/1996)   \rResolving deltas:  53% (1059/1996)   \rResolving deltas:  54% (1081/1996)   \rResolving deltas:  55% (1104/1996)   \rResolving deltas:  56% (1124/1996)   \rResolving deltas:  57% (1139/1996)   \rResolving deltas:  58% (1158/1996)   \rResolving deltas:  59% (1182/1996)   \rResolving deltas:  60% (1198/1996)   \rResolving deltas:  61% (1219/1996)   \rResolving deltas:  62% (1243/1996)   \rResolving deltas:  63% (1260/1996)   \rResolving deltas:  64% (1278/1996)   \rResolving deltas:  65% (1299/1996)   \rResolving deltas:  66% (1318/1996)   \rResolving deltas:  67% (1339/1996)   \rResolving deltas:  68% (1361/1996)   \rResolving deltas:  69% (1380/1996)   \rResolving deltas:  70% (1404/1996)   \rResolving deltas:  71% (1426/1996)   \rResolving deltas:  72% (1440/1996)   \rResolving deltas:  73% (1463/1996)   \rResolving deltas:  74% (1483/1996)   \rResolving deltas:  75% (1506/1996)   \rResolving deltas:  76% (1518/1996)   \rResolving deltas:  77% (1539/1996)   \rResolving deltas:  78% (1557/1996)   \rResolving deltas:  79% (1578/1996)   \rResolving deltas:  80% (1602/1996)   \rResolving deltas:  81% (1617/1996)   \rResolving deltas:  82% (1638/1996)   \rResolving deltas:  83% (1664/1996)   \rResolving deltas:  84% (1677/1996)   \rResolving deltas:  85% (1700/1996)   \rResolving deltas:  86% (1724/1996)   \rResolving deltas:  87% (1741/1996)   \rResolving deltas:  88% (1760/1996)   \rResolving deltas:  89% (1781/1996)   \rResolving deltas:  90% (1800/1996)   \rResolving deltas:  91% (1819/1996)   \rResolving deltas:  92% (1843/1996)   \rResolving deltas:  93% (1866/1996)   \rResolving deltas:  94% (1888/1996)   \rResolving deltas:  95% (1899/1996)   \rResolving deltas:  96% (1930/1996)   \rResolving deltas:  97% (1937/1996)   \rResolving deltas:  98% (1958/1996)   \rResolving deltas:  99% (1977/1996)   \rResolving deltas: 100% (1996/1996)   \rResolving deltas: 100% (1996/1996), done.\n",
            "Obtaining file:///content/detectron2_repo\n",
            "Requirement already satisfied: termcolor>=1.1 in /usr/local/lib/python3.6/dist-packages (from detectron2==0.1) (1.1.0)\n",
            "Requirement already satisfied: Pillow in /usr/local/lib/python3.6/dist-packages (from detectron2==0.1) (6.2.2)\n",
            "Collecting yacs>=0.1.6\n",
            "  Downloading yacs-0.1.6-py3-none-any.whl (9.6 kB)\n",
            "Requirement already satisfied: tabulate in /usr/local/lib/python3.6/dist-packages (from detectron2==0.1) (0.8.6)\n",
            "Requirement already satisfied: cloudpickle in /usr/local/lib/python3.6/dist-packages (from detectron2==0.1) (1.2.2)\n",
            "Requirement already satisfied: matplotlib in /usr/local/lib/python3.6/dist-packages (from detectron2==0.1) (3.1.3)\n",
            "Collecting tqdm>4.29.0\n",
            "  Downloading tqdm-4.42.1-py2.py3-none-any.whl (59 kB)\n",
            "\u001b[K     |████████████████████████████████| 59 kB 8.7 MB/s \n",
            "\u001b[?25hRequirement already satisfied: tensorboard in /usr/local/lib/python3.6/dist-packages (from detectron2==0.1) (1.15.0)\n",
            "Collecting fvcore\n",
            "  Downloading fvcore-0.1.dev200218.tar.gz (27 kB)\n",
            "Requirement already satisfied: future in /usr/local/lib/python3.6/dist-packages (from detectron2==0.1) (0.16.0)\n",
            "Requirement already satisfied: pydot in /usr/local/lib/python3.6/dist-packages (from detectron2==0.1) (1.3.0)\n",
            "Requirement already satisfied: PyYAML in /usr/local/lib/python3.6/dist-packages (from yacs>=0.1.6->detectron2==0.1) (5.1)\n",
            "Requirement already satisfied: cycler>=0.10 in /usr/local/lib/python3.6/dist-packages (from matplotlib->detectron2==0.1) (0.10.0)\n",
            "Requirement already satisfied: python-dateutil>=2.1 in /usr/local/lib/python3.6/dist-packages (from matplotlib->detectron2==0.1) (2.6.1)\n",
            "Requirement already satisfied: kiwisolver>=1.0.1 in /usr/local/lib/python3.6/dist-packages (from matplotlib->detectron2==0.1) (1.1.0)\n",
            "Requirement already satisfied: numpy>=1.11 in /usr/local/lib/python3.6/dist-packages (from matplotlib->detectron2==0.1) (1.17.5)\n",
            "Requirement already satisfied: pyparsing!=2.0.4,!=2.1.2,!=2.1.6,>=2.0.1 in /usr/local/lib/python3.6/dist-packages (from matplotlib->detectron2==0.1) (2.4.6)\n",
            "Requirement already satisfied: markdown>=2.6.8 in /usr/local/lib/python3.6/dist-packages (from tensorboard->detectron2==0.1) (3.2.1)\n",
            "Requirement already satisfied: wheel>=0.26; python_version >= \"3\" in /usr/local/lib/python3.6/dist-packages (from tensorboard->detectron2==0.1) (0.34.2)\n",
            "Requirement already satisfied: absl-py>=0.4 in /usr/local/lib/python3.6/dist-packages (from tensorboard->detectron2==0.1) (0.9.0)\n",
            "Requirement already satisfied: werkzeug>=0.11.15 in /usr/local/lib/python3.6/dist-packages (from tensorboard->detectron2==0.1) (1.0.0)\n",
            "Requirement already satisfied: setuptools>=41.0.0 in /usr/local/lib/python3.6/dist-packages (from tensorboard->detectron2==0.1) (45.1.0)\n",
            "Requirement already satisfied: six>=1.10.0 in /usr/local/lib/python3.6/dist-packages (from tensorboard->detectron2==0.1) (1.12.0)\n",
            "Requirement already satisfied: grpcio>=1.6.3 in /usr/local/lib/python3.6/dist-packages (from tensorboard->detectron2==0.1) (1.27.1)\n",
            "Requirement already satisfied: protobuf>=3.6.0 in /usr/local/lib/python3.6/dist-packages (from tensorboard->detectron2==0.1) (3.10.0)\n",
            "Collecting portalocker\n",
            "  Downloading portalocker-1.5.2-py2.py3-none-any.whl (14 kB)\n",
            "Building wheels for collected packages: fvcore\n",
            "  Building wheel for fvcore (setup.py) ... \u001b[?25l\u001b[?25hdone\n",
            "  Created wheel for fvcore: filename=fvcore-0.1.dev200218-py3-none-any.whl size=34525 sha256=f1c146fbdb81381f48ec44caa9ec6aa43495d53af0db48290bc80b0549d234e7\n",
            "  Stored in directory: /root/.cache/pip/wheels/41/05/bf/1716faaab25417a8e5708172f121fb2329c80ca09e38c9faae\n",
            "Successfully built fvcore\n",
            "Installing collected packages: yacs, tqdm, portalocker, fvcore, detectron2\n",
            "  Attempting uninstall: tqdm\n",
            "    Found existing installation: tqdm 4.28.1\n",
            "    Uninstalling tqdm-4.28.1:\n",
            "      Successfully uninstalled tqdm-4.28.1\n",
            "  Running setup.py develop for detectron2\n",
            "Successfully installed detectron2 fvcore-0.1.dev200218 portalocker-1.5.2 tqdm-4.42.1 yacs-0.1.6\n"
          ],
          "name": "stdout"
        },
        {
          "output_type": "display_data",
          "data": {
            "application/vnd.colab-display-data+json": {
              "pip_warning": {
                "packages": [
                  "tqdm"
                ]
              }
            }
          },
          "metadata": {
            "tags": []
          }
        }
      ]
    },
    {
      "cell_type": "markdown",
      "metadata": {
        "id": "Bm3HC1RZo3_7",
        "colab_type": "text"
      },
      "source": [
        "# Install other dependenciess, Sort and py-motmetrics"
      ]
    },
    {
      "cell_type": "code",
      "metadata": {
        "id": "BalHFFgPGNXL",
        "colab_type": "code",
        "outputId": "4daf09db-0051-4ad8-f159-c56f7c312cb2",
        "colab": {
          "base_uri": "https://localhost:8080/",
          "height": 1000
        }
      },
      "source": [
        "!pip install youtube-dl\n",
        "!pip uninstall -y opencv-python opencv-contrib-python\n",
        "!apt install python3-opencv  # the one pre-installed have some issues\n",
        "!pip install pandas\n",
        "# Install Sort by official repository\n",
        "!git clone https://github.com/abewley/sort sort_repo\n",
        "!cd sort_repo && pip install -r requirements.txt\n",
        "!pip install --upgrade scikit-image\n",
        "# Install py-motmetrics for obtain metrics like MOTA and MOTP\n",
        "!pip install motmetrics"
      ],
      "execution_count": 0,
      "outputs": [
        {
          "output_type": "stream",
          "text": [
            "Collecting youtube-dl\n",
            "  Downloading youtube_dl-2020.2.16-py2.py3-none-any.whl (1.8 MB)\n",
            "\u001b[?25l\r\u001b[K     |▏                               | 10 kB 38.7 MB/s eta 0:00:01\r\u001b[K     |▍                               | 20 kB 47.5 MB/s eta 0:00:01\r\u001b[K     |▌                               | 30 kB 53.6 MB/s eta 0:00:01\r\u001b[K     |▊                               | 40 kB 57.6 MB/s eta 0:00:01\r\u001b[K     |█                               | 51 kB 63.8 MB/s eta 0:00:01\r\u001b[K     |█                               | 61 kB 71.1 MB/s eta 0:00:01\r\u001b[K     |█▎                              | 71 kB 69.8 MB/s eta 0:00:01\r\u001b[K     |█▌                              | 81 kB 67.3 MB/s eta 0:00:01\r\u001b[K     |█▋                              | 92 kB 70.0 MB/s eta 0:00:01\r\u001b[K     |█▉                              | 102 kB 71.9 MB/s eta 0:00:01\r\u001b[K     |██                              | 112 kB 71.9 MB/s eta 0:00:01\r\u001b[K     |██▏                             | 122 kB 71.9 MB/s eta 0:00:01\r\u001b[K     |██▍                             | 133 kB 71.9 MB/s eta 0:00:01\r\u001b[K     |██▌                             | 143 kB 71.9 MB/s eta 0:00:01\r\u001b[K     |██▊                             | 153 kB 71.9 MB/s eta 0:00:01\r\u001b[K     |███                             | 163 kB 71.9 MB/s eta 0:00:01\r\u001b[K     |███                             | 174 kB 71.9 MB/s eta 0:00:01\r\u001b[K     |███▎                            | 184 kB 71.9 MB/s eta 0:00:01\r\u001b[K     |███▍                            | 194 kB 71.9 MB/s eta 0:00:01\r\u001b[K     |███▋                            | 204 kB 71.9 MB/s eta 0:00:01\r\u001b[K     |███▉                            | 215 kB 71.9 MB/s eta 0:00:01\r\u001b[K     |████                            | 225 kB 71.9 MB/s eta 0:00:01\r\u001b[K     |████▏                           | 235 kB 71.9 MB/s eta 0:00:01\r\u001b[K     |████▍                           | 245 kB 71.9 MB/s eta 0:00:01\r\u001b[K     |████▌                           | 256 kB 71.9 MB/s eta 0:00:01\r\u001b[K     |████▊                           | 266 kB 71.9 MB/s eta 0:00:01\r\u001b[K     |████▉                           | 276 kB 71.9 MB/s eta 0:00:01\r\u001b[K     |█████                           | 286 kB 71.9 MB/s eta 0:00:01\r\u001b[K     |█████▎                          | 296 kB 71.9 MB/s eta 0:00:01\r\u001b[K     |█████▍                          | 307 kB 71.9 MB/s eta 0:00:01\r\u001b[K     |█████▋                          | 317 kB 71.9 MB/s eta 0:00:01\r\u001b[K     |█████▉                          | 327 kB 71.9 MB/s eta 0:00:01\r\u001b[K     |██████                          | 337 kB 71.9 MB/s eta 0:00:01\r\u001b[K     |██████▏                         | 348 kB 71.9 MB/s eta 0:00:01\r\u001b[K     |██████▎                         | 358 kB 71.9 MB/s eta 0:00:01\r\u001b[K     |██████▌                         | 368 kB 71.9 MB/s eta 0:00:01\r\u001b[K     |██████▊                         | 378 kB 71.9 MB/s eta 0:00:01\r\u001b[K     |██████▉                         | 389 kB 71.9 MB/s eta 0:00:01\r\u001b[K     |███████                         | 399 kB 71.9 MB/s eta 0:00:01\r\u001b[K     |███████▎                        | 409 kB 71.9 MB/s eta 0:00:01\r\u001b[K     |███████▍                        | 419 kB 71.9 MB/s eta 0:00:01\r\u001b[K     |███████▋                        | 430 kB 71.9 MB/s eta 0:00:01\r\u001b[K     |███████▊                        | 440 kB 71.9 MB/s eta 0:00:01\r\u001b[K     |████████                        | 450 kB 71.9 MB/s eta 0:00:01\r\u001b[K     |████████▏                       | 460 kB 71.9 MB/s eta 0:00:01\r\u001b[K     |████████▎                       | 471 kB 71.9 MB/s eta 0:00:01\r\u001b[K     |████████▌                       | 481 kB 71.9 MB/s eta 0:00:01\r\u001b[K     |████████▊                       | 491 kB 71.9 MB/s eta 0:00:01\r\u001b[K     |████████▉                       | 501 kB 71.9 MB/s eta 0:00:01\r\u001b[K     |█████████                       | 512 kB 71.9 MB/s eta 0:00:01\r\u001b[K     |█████████▏                      | 522 kB 71.9 MB/s eta 0:00:01\r\u001b[K     |█████████▍                      | 532 kB 71.9 MB/s eta 0:00:01\r\u001b[K     |█████████▋                      | 542 kB 71.9 MB/s eta 0:00:01\r\u001b[K     |█████████▊                      | 552 kB 71.9 MB/s eta 0:00:01\r\u001b[K     |██████████                      | 563 kB 71.9 MB/s eta 0:00:01\r\u001b[K     |██████████▏                     | 573 kB 71.9 MB/s eta 0:00:01\r\u001b[K     |██████████▎                     | 583 kB 71.9 MB/s eta 0:00:01\r\u001b[K     |██████████▌                     | 593 kB 71.9 MB/s eta 0:00:01\r\u001b[K     |██████████▋                     | 604 kB 71.9 MB/s eta 0:00:01\r\u001b[K     |██████████▉                     | 614 kB 71.9 MB/s eta 0:00:01\r\u001b[K     |███████████                     | 624 kB 71.9 MB/s eta 0:00:01\r\u001b[K     |███████████▏                    | 634 kB 71.9 MB/s eta 0:00:01\r\u001b[K     |███████████▍                    | 645 kB 71.9 MB/s eta 0:00:01\r\u001b[K     |███████████▋                    | 655 kB 71.9 MB/s eta 0:00:01\r\u001b[K     |███████████▊                    | 665 kB 71.9 MB/s eta 0:00:01\r\u001b[K     |████████████                    | 675 kB 71.9 MB/s eta 0:00:01\r\u001b[K     |████████████▏                   | 686 kB 71.9 MB/s eta 0:00:01\r\u001b[K     |████████████▎                   | 696 kB 71.9 MB/s eta 0:00:01\r\u001b[K     |████████████▌                   | 706 kB 71.9 MB/s eta 0:00:01\r\u001b[K     |████████████▋                   | 716 kB 71.9 MB/s eta 0:00:01\r\u001b[K     |████████████▉                   | 727 kB 71.9 MB/s eta 0:00:01\r\u001b[K     |█████████████                   | 737 kB 71.9 MB/s eta 0:00:01\r\u001b[K     |█████████████▏                  | 747 kB 71.9 MB/s eta 0:00:01\r\u001b[K     |█████████████▍                  | 757 kB 71.9 MB/s eta 0:00:01\r\u001b[K     |█████████████▋                  | 768 kB 71.9 MB/s eta 0:00:01\r\u001b[K     |█████████████▊                  | 778 kB 71.9 MB/s eta 0:00:01\r\u001b[K     |██████████████                  | 788 kB 71.9 MB/s eta 0:00:01\r\u001b[K     |██████████████                  | 798 kB 71.9 MB/s eta 0:00:01\r\u001b[K     |██████████████▎                 | 808 kB 71.9 MB/s eta 0:00:01\r\u001b[K     |██████████████▌                 | 819 kB 71.9 MB/s eta 0:00:01\r\u001b[K     |██████████████▋                 | 829 kB 71.9 MB/s eta 0:00:01\r\u001b[K     |██████████████▉                 | 839 kB 71.9 MB/s eta 0:00:01\r\u001b[K     |███████████████                 | 849 kB 71.9 MB/s eta 0:00:01\r\u001b[K     |███████████████▏                | 860 kB 71.9 MB/s eta 0:00:01\r\u001b[K     |███████████████▍                | 870 kB 71.9 MB/s eta 0:00:01\r\u001b[K     |███████████████▌                | 880 kB 71.9 MB/s eta 0:00:01\r\u001b[K     |███████████████▊                | 890 kB 71.9 MB/s eta 0:00:01\r\u001b[K     |████████████████                | 901 kB 71.9 MB/s eta 0:00:01\r\u001b[K     |████████████████                | 911 kB 71.9 MB/s eta 0:00:01\r\u001b[K     |████████████████▎               | 921 kB 71.9 MB/s eta 0:00:01\r\u001b[K     |████████████████▌               | 931 kB 71.9 MB/s eta 0:00:01\r\u001b[K     |████████████████▋               | 942 kB 71.9 MB/s eta 0:00:01\r\u001b[K     |████████████████▉               | 952 kB 71.9 MB/s eta 0:00:01\r\u001b[K     |█████████████████               | 962 kB 71.9 MB/s eta 0:00:01\r\u001b[K     |█████████████████▏              | 972 kB 71.9 MB/s eta 0:00:01\r\u001b[K     |█████████████████▍              | 983 kB 71.9 MB/s eta 0:00:01\r\u001b[K     |█████████████████▌              | 993 kB 71.9 MB/s eta 0:00:01\r\u001b[K     |█████████████████▊              | 1.0 MB 71.9 MB/s eta 0:00:01\r\u001b[K     |██████████████████              | 1.0 MB 71.9 MB/s eta 0:00:01\r\u001b[K     |██████████████████              | 1.0 MB 71.9 MB/s eta 0:00:01\r\u001b[K     |██████████████████▎             | 1.0 MB 71.9 MB/s eta 0:00:01\r\u001b[K     |██████████████████▍             | 1.0 MB 71.9 MB/s eta 0:00:01\r\u001b[K     |██████████████████▋             | 1.1 MB 71.9 MB/s eta 0:00:01\r\u001b[K     |██████████████████▉             | 1.1 MB 71.9 MB/s eta 0:00:01\r\u001b[K     |███████████████████             | 1.1 MB 71.9 MB/s eta 0:00:01\r\u001b[K     |███████████████████▏            | 1.1 MB 71.9 MB/s eta 0:00:01\r\u001b[K     |███████████████████▍            | 1.1 MB 71.9 MB/s eta 0:00:01\r\u001b[K     |███████████████████▌            | 1.1 MB 71.9 MB/s eta 0:00:01\r\u001b[K     |███████████████████▊            | 1.1 MB 71.9 MB/s eta 0:00:01\r\u001b[K     |███████████████████▉            | 1.1 MB 71.9 MB/s eta 0:00:01\r\u001b[K     |████████████████████            | 1.1 MB 71.9 MB/s eta 0:00:01\r\u001b[K     |████████████████████▎           | 1.1 MB 71.9 MB/s eta 0:00:01\r\u001b[K     |████████████████████▍           | 1.2 MB 71.9 MB/s eta 0:00:01\r\u001b[K     |████████████████████▋           | 1.2 MB 71.9 MB/s eta 0:00:01\r\u001b[K     |████████████████████▉           | 1.2 MB 71.9 MB/s eta 0:00:01\r\u001b[K     |█████████████████████           | 1.2 MB 71.9 MB/s eta 0:00:01\r\u001b[K     |█████████████████████▏          | 1.2 MB 71.9 MB/s eta 0:00:01\r\u001b[K     |█████████████████████▎          | 1.2 MB 71.9 MB/s eta 0:00:01\r\u001b[K     |█████████████████████▌          | 1.2 MB 71.9 MB/s eta 0:00:01\r\u001b[K     |█████████████████████▊          | 1.2 MB 71.9 MB/s eta 0:00:01\r\u001b[K     |█████████████████████▉          | 1.2 MB 71.9 MB/s eta 0:00:01\r\u001b[K     |██████████████████████          | 1.2 MB 71.9 MB/s eta 0:00:01\r\u001b[K     |██████████████████████▎         | 1.3 MB 71.9 MB/s eta 0:00:01\r\u001b[K     |██████████████████████▍         | 1.3 MB 71.9 MB/s eta 0:00:01\r\u001b[K     |██████████████████████▋         | 1.3 MB 71.9 MB/s eta 0:00:01\r\u001b[K     |██████████████████████▉         | 1.3 MB 71.9 MB/s eta 0:00:01\r\u001b[K     |███████████████████████         | 1.3 MB 71.9 MB/s eta 0:00:01\r\u001b[K     |███████████████████████▏        | 1.3 MB 71.9 MB/s eta 0:00:01\r\u001b[K     |███████████████████████▎        | 1.3 MB 71.9 MB/s eta 0:00:01\r\u001b[K     |███████████████████████▌        | 1.3 MB 71.9 MB/s eta 0:00:01\r\u001b[K     |███████████████████████▊        | 1.3 MB 71.9 MB/s eta 0:00:01\r\u001b[K     |███████████████████████▉        | 1.4 MB 71.9 MB/s eta 0:00:01\r\u001b[K     |████████████████████████        | 1.4 MB 71.9 MB/s eta 0:00:01\r\u001b[K     |████████████████████████▎       | 1.4 MB 71.9 MB/s eta 0:00:01\r\u001b[K     |████████████████████████▍       | 1.4 MB 71.9 MB/s eta 0:00:01\r\u001b[K     |████████████████████████▋       | 1.4 MB 71.9 MB/s eta 0:00:01\r\u001b[K     |████████████████████████▊       | 1.4 MB 71.9 MB/s eta 0:00:01\r\u001b[K     |█████████████████████████       | 1.4 MB 71.9 MB/s eta 0:00:01\r\u001b[K     |█████████████████████████▏      | 1.4 MB 71.9 MB/s eta 0:00:01\r\u001b[K     |█████████████████████████▎      | 1.4 MB 71.9 MB/s eta 0:00:01\r\u001b[K     |█████████████████████████▌      | 1.4 MB 71.9 MB/s eta 0:00:01\r\u001b[K     |█████████████████████████▊      | 1.5 MB 71.9 MB/s eta 0:00:01\r\u001b[K     |█████████████████████████▉      | 1.5 MB 71.9 MB/s eta 0:00:01\r\u001b[K     |██████████████████████████      | 1.5 MB 71.9 MB/s eta 0:00:01\r\u001b[K     |██████████████████████████▏     | 1.5 MB 71.9 MB/s eta 0:00:01\r\u001b[K     |██████████████████████████▍     | 1.5 MB 71.9 MB/s eta 0:00:01\r\u001b[K     |██████████████████████████▋     | 1.5 MB 71.9 MB/s eta 0:00:01\r\u001b[K     |██████████████████████████▊     | 1.5 MB 71.9 MB/s eta 0:00:01\r\u001b[K     |███████████████████████████     | 1.5 MB 71.9 MB/s eta 0:00:01\r\u001b[K     |███████████████████████████▏    | 1.5 MB 71.9 MB/s eta 0:00:01\r\u001b[K     |███████████████████████████▎    | 1.5 MB 71.9 MB/s eta 0:00:01\r\u001b[K     |███████████████████████████▌    | 1.6 MB 71.9 MB/s eta 0:00:01\r\u001b[K     |███████████████████████████▋    | 1.6 MB 71.9 MB/s eta 0:00:01\r\u001b[K     |███████████████████████████▉    | 1.6 MB 71.9 MB/s eta 0:00:01\r\u001b[K     |████████████████████████████    | 1.6 MB 71.9 MB/s eta 0:00:01\r\u001b[K     |████████████████████████████▏   | 1.6 MB 71.9 MB/s eta 0:00:01\r\u001b[K     |████████████████████████████▍   | 1.6 MB 71.9 MB/s eta 0:00:01\r\u001b[K     |████████████████████████████▋   | 1.6 MB 71.9 MB/s eta 0:00:01\r\u001b[K     |████████████████████████████▊   | 1.6 MB 71.9 MB/s eta 0:00:01\r\u001b[K     |█████████████████████████████   | 1.6 MB 71.9 MB/s eta 0:00:01\r\u001b[K     |█████████████████████████████   | 1.6 MB 71.9 MB/s eta 0:00:01\r\u001b[K     |█████████████████████████████▎  | 1.7 MB 71.9 MB/s eta 0:00:01\r\u001b[K     |█████████████████████████████▌  | 1.7 MB 71.9 MB/s eta 0:00:01\r\u001b[K     |█████████████████████████████▋  | 1.7 MB 71.9 MB/s eta 0:00:01\r\u001b[K     |█████████████████████████████▉  | 1.7 MB 71.9 MB/s eta 0:00:01\r\u001b[K     |██████████████████████████████  | 1.7 MB 71.9 MB/s eta 0:00:01\r\u001b[K     |██████████████████████████████▏ | 1.7 MB 71.9 MB/s eta 0:00:01\r\u001b[K     |██████████████████████████████▍ | 1.7 MB 71.9 MB/s eta 0:00:01\r\u001b[K     |██████████████████████████████▌ | 1.7 MB 71.9 MB/s eta 0:00:01\r\u001b[K     |██████████████████████████████▊ | 1.7 MB 71.9 MB/s eta 0:00:01\r\u001b[K     |███████████████████████████████ | 1.8 MB 71.9 MB/s eta 0:00:01\r\u001b[K     |███████████████████████████████ | 1.8 MB 71.9 MB/s eta 0:00:01\r\u001b[K     |███████████████████████████████▎| 1.8 MB 71.9 MB/s eta 0:00:01\r\u001b[K     |███████████████████████████████▌| 1.8 MB 71.9 MB/s eta 0:00:01\r\u001b[K     |███████████████████████████████▋| 1.8 MB 71.9 MB/s eta 0:00:01\r\u001b[K     |███████████████████████████████▉| 1.8 MB 71.9 MB/s eta 0:00:01\r\u001b[K     |████████████████████████████████| 1.8 MB 71.9 MB/s eta 0:00:01\r\u001b[K     |████████████████████████████████| 1.8 MB 71.9 MB/s \n",
            "\u001b[?25hInstalling collected packages: youtube-dl\n",
            "Successfully installed youtube-dl-2020.2.16\n",
            "Found existing installation: opencv-python 4.1.2.30\n",
            "Uninstalling opencv-python-4.1.2.30:\n",
            "  Successfully uninstalled opencv-python-4.1.2.30\n",
            "Found existing installation: opencv-contrib-python 4.1.2.30\n",
            "Uninstalling opencv-contrib-python-4.1.2.30:\n",
            "  Successfully uninstalled opencv-contrib-python-4.1.2.30\n",
            "Reading package lists... Done\n",
            "Building dependency tree       \n",
            "Reading state information... Done\n",
            "The following package was automatically installed and is no longer required:\n",
            "  libnvidia-common-430\n",
            "Use 'apt autoremove' to remove it.\n",
            "The following NEW packages will be installed:\n",
            "  python3-opencv\n",
            "0 upgraded, 1 newly installed, 0 to remove and 25 not upgraded.\n",
            "Need to get 534 kB of archives.\n",
            "After this operation, 2,941 kB of additional disk space will be used.\n",
            "Get:1 http://archive.ubuntu.com/ubuntu bionic-updates/universe amd64 python3-opencv amd64 3.2.0+dfsg-4ubuntu0.1 [534 kB]\n",
            "Fetched 534 kB in 1s (899 kB/s)\n",
            "Selecting previously unselected package python3-opencv.\n",
            "(Reading database ... 145113 files and directories currently installed.)\n",
            "Preparing to unpack .../python3-opencv_3.2.0+dfsg-4ubuntu0.1_amd64.deb ...\n",
            "Unpacking python3-opencv (3.2.0+dfsg-4ubuntu0.1) ...\n",
            "Setting up python3-opencv (3.2.0+dfsg-4ubuntu0.1) ...\n",
            "Requirement already satisfied: pandas in /usr/local/lib/python3.6/dist-packages (0.25.3)\n",
            "Requirement already satisfied: pytz>=2017.2 in /usr/local/lib/python3.6/dist-packages (from pandas) (2018.9)\n",
            "Requirement already satisfied: python-dateutil>=2.6.1 in /usr/local/lib/python3.6/dist-packages (from pandas) (2.6.1)\n",
            "Requirement already satisfied: numpy>=1.13.3 in /usr/local/lib/python3.6/dist-packages (from pandas) (1.17.5)\n",
            "Requirement already satisfied: six>=1.5 in /usr/local/lib/python3.6/dist-packages (from python-dateutil>=2.6.1->pandas) (1.12.0)\n",
            "Cloning into 'sort_repo'...\n",
            "remote: Enumerating objects: 37, done.\u001b[K\n",
            "remote: Counting objects: 100% (37/37), done.\u001b[K\n",
            "remote: Compressing objects: 100% (19/19), done.\u001b[K\n",
            "remote: Total 173 (delta 10), reused 32 (delta 6), pack-reused 136\u001b[K\n",
            "Receiving objects: 100% (173/173), 1.20 MiB | 29.27 MiB/s, done.\n",
            "Resolving deltas: 100% (56/56), done.\n",
            "Requirement already satisfied: scipy in /usr/local/lib/python3.6/dist-packages (from -r requirements.txt (line 1)) (1.4.1)\n",
            "Collecting filterpy==1.4.1\n",
            "  Downloading filterpy-1.4.1.zip (169 kB)\n",
            "\u001b[K     |████████████████████████████████| 169 kB 47.4 MB/s \n",
            "\u001b[?25hCollecting numba==0.38.1\n",
            "  Downloading numba-0.38.1-cp36-cp36m-manylinux1_x86_64.whl (1.9 MB)\n",
            "\u001b[K     |████████████████████████████████| 1.9 MB 58.2 MB/s \n",
            "\u001b[?25hCollecting scikit-image==0.14.0\n",
            "  Downloading scikit_image-0.14.0-cp36-cp36m-manylinux1_x86_64.whl (25.3 MB)\n",
            "\u001b[K     |████████████████████████████████| 25.3 MB 58 kB/s \n",
            "\u001b[?25hCollecting scikit-learn==0.19.1\n",
            "  Downloading scikit_learn-0.19.1-cp36-cp36m-manylinux1_x86_64.whl (12.4 MB)\n",
            "\u001b[K     |████████████████████████████████| 12.4 MB 74.3 MB/s \n",
            "\u001b[?25hRequirement already satisfied: numpy>=1.13.3 in /usr/local/lib/python3.6/dist-packages (from scipy->-r requirements.txt (line 1)) (1.17.5)\n",
            "Requirement already satisfied: matplotlib in /usr/local/lib/python3.6/dist-packages (from filterpy==1.4.1->-r requirements.txt (line 2)) (3.1.3)\n",
            "Requirement already satisfied: llvmlite>=0.23.0dev0 in /usr/local/lib/python3.6/dist-packages (from numba==0.38.1->-r requirements.txt (line 3)) (0.31.0)\n",
            "Requirement already satisfied: six>=1.10.0 in /usr/local/lib/python3.6/dist-packages (from scikit-image==0.14.0->-r requirements.txt (line 4)) (1.12.0)\n",
            "Requirement already satisfied: cloudpickle>=0.2.1 in /usr/local/lib/python3.6/dist-packages (from scikit-image==0.14.0->-r requirements.txt (line 4)) (1.2.2)\n",
            "Requirement already satisfied: PyWavelets>=0.4.0 in /usr/local/lib/python3.6/dist-packages (from scikit-image==0.14.0->-r requirements.txt (line 4)) (1.1.1)\n",
            "Requirement already satisfied: pillow>=4.3.0 in /usr/local/lib/python3.6/dist-packages (from scikit-image==0.14.0->-r requirements.txt (line 4)) (6.2.2)\n",
            "Requirement already satisfied: networkx>=1.8 in /usr/local/lib/python3.6/dist-packages (from scikit-image==0.14.0->-r requirements.txt (line 4)) (2.4)\n",
            "Requirement already satisfied: dask[array]>=0.9.0 in /usr/local/lib/python3.6/dist-packages (from scikit-image==0.14.0->-r requirements.txt (line 4)) (2.9.2)\n",
            "Requirement already satisfied: python-dateutil>=2.1 in /usr/local/lib/python3.6/dist-packages (from matplotlib->filterpy==1.4.1->-r requirements.txt (line 2)) (2.6.1)\n",
            "Requirement already satisfied: kiwisolver>=1.0.1 in /usr/local/lib/python3.6/dist-packages (from matplotlib->filterpy==1.4.1->-r requirements.txt (line 2)) (1.1.0)\n",
            "Requirement already satisfied: cycler>=0.10 in /usr/local/lib/python3.6/dist-packages (from matplotlib->filterpy==1.4.1->-r requirements.txt (line 2)) (0.10.0)\n",
            "Requirement already satisfied: pyparsing!=2.0.4,!=2.1.2,!=2.1.6,>=2.0.1 in /usr/local/lib/python3.6/dist-packages (from matplotlib->filterpy==1.4.1->-r requirements.txt (line 2)) (2.4.6)\n",
            "Requirement already satisfied: decorator>=4.3.0 in /usr/local/lib/python3.6/dist-packages (from networkx>=1.8->scikit-image==0.14.0->-r requirements.txt (line 4)) (4.4.1)\n",
            "Requirement already satisfied: toolz>=0.7.3; extra == \"array\" in /usr/local/lib/python3.6/dist-packages (from dask[array]>=0.9.0->scikit-image==0.14.0->-r requirements.txt (line 4)) (0.10.0)\n",
            "Requirement already satisfied: setuptools in /usr/local/lib/python3.6/dist-packages (from kiwisolver>=1.0.1->matplotlib->filterpy==1.4.1->-r requirements.txt (line 2)) (45.1.0)\n",
            "Building wheels for collected packages: filterpy\n",
            "  Building wheel for filterpy (setup.py) ... \u001b[?25l\u001b[?25hdone\n",
            "  Created wheel for filterpy: filename=filterpy-1.4.1-py3-none-any.whl size=103793 sha256=b6bde93dc4e1524737c5fbff4226628ecb6403507bf14364a28cf2d6f7c56c45\n",
            "  Stored in directory: /root/.cache/pip/wheels/b2/0e/21/4780eca29374d6a6bec7cb45c2dfe38d26b6c10ea69a9668cd\n",
            "Successfully built filterpy\n",
            "\u001b[31mERROR: imgaug 0.2.9 requires opencv-python, which is not installed.\u001b[0m\n",
            "\u001b[31mERROR: albumentations 0.1.12 requires opencv-python, which is not installed.\u001b[0m\n",
            "\u001b[31mERROR: yellowbrick 0.9.1 has requirement scikit-learn>=0.20, but you'll have scikit-learn 0.19.1 which is incompatible.\u001b[0m\n",
            "\u001b[31mERROR: imbalanced-learn 0.4.3 has requirement scikit-learn>=0.20, but you'll have scikit-learn 0.19.1 which is incompatible.\u001b[0m\n",
            "\u001b[31mERROR: albumentations 0.1.12 has requirement imgaug<0.2.7,>=0.2.5, but you'll have imgaug 0.2.9 which is incompatible.\u001b[0m\n",
            "Installing collected packages: filterpy, numba, scikit-image, scikit-learn\n",
            "  Attempting uninstall: numba\n",
            "    Found existing installation: numba 0.47.0\n",
            "    Uninstalling numba-0.47.0:\n",
            "      Successfully uninstalled numba-0.47.0\n",
            "  Attempting uninstall: scikit-image\n",
            "    Found existing installation: scikit-image 0.16.2\n",
            "    Uninstalling scikit-image-0.16.2:\n",
            "      Successfully uninstalled scikit-image-0.16.2\n",
            "  Attempting uninstall: scikit-learn\n",
            "    Found existing installation: scikit-learn 0.22.1\n",
            "    Uninstalling scikit-learn-0.22.1:\n",
            "      Successfully uninstalled scikit-learn-0.22.1\n",
            "Successfully installed filterpy-1.4.1 numba-0.38.1 scikit-image-0.14.0 scikit-learn-0.19.1\n",
            "Collecting scikit-image\n",
            "  Downloading scikit_image-0.16.2-cp36-cp36m-manylinux1_x86_64.whl (26.5 MB)\n",
            "\u001b[K     |████████████████████████████████| 26.5 MB 1.5 MB/s \n",
            "\u001b[?25hRequirement already satisfied, skipping upgrade: pillow>=4.3.0 in /usr/local/lib/python3.6/dist-packages (from scikit-image) (6.2.2)\n",
            "Requirement already satisfied, skipping upgrade: imageio>=2.3.0 in /usr/local/lib/python3.6/dist-packages (from scikit-image) (2.4.1)\n",
            "Requirement already satisfied, skipping upgrade: scipy>=0.19.0 in /usr/local/lib/python3.6/dist-packages (from scikit-image) (1.4.1)\n",
            "Requirement already satisfied, skipping upgrade: PyWavelets>=0.4.0 in /usr/local/lib/python3.6/dist-packages (from scikit-image) (1.1.1)\n",
            "Requirement already satisfied, skipping upgrade: networkx>=2.0 in /usr/local/lib/python3.6/dist-packages (from scikit-image) (2.4)\n",
            "Requirement already satisfied, skipping upgrade: matplotlib!=3.0.0,>=2.0.0 in /usr/local/lib/python3.6/dist-packages (from scikit-image) (3.1.3)\n",
            "Requirement already satisfied, skipping upgrade: numpy in /usr/local/lib/python3.6/dist-packages (from imageio>=2.3.0->scikit-image) (1.17.5)\n",
            "Requirement already satisfied, skipping upgrade: decorator>=4.3.0 in /usr/local/lib/python3.6/dist-packages (from networkx>=2.0->scikit-image) (4.4.1)\n",
            "Requirement already satisfied, skipping upgrade: python-dateutil>=2.1 in /usr/local/lib/python3.6/dist-packages (from matplotlib!=3.0.0,>=2.0.0->scikit-image) (2.6.1)\n",
            "Requirement already satisfied, skipping upgrade: cycler>=0.10 in /usr/local/lib/python3.6/dist-packages (from matplotlib!=3.0.0,>=2.0.0->scikit-image) (0.10.0)\n",
            "Requirement already satisfied, skipping upgrade: pyparsing!=2.0.4,!=2.1.2,!=2.1.6,>=2.0.1 in /usr/local/lib/python3.6/dist-packages (from matplotlib!=3.0.0,>=2.0.0->scikit-image) (2.4.6)\n",
            "Requirement already satisfied, skipping upgrade: kiwisolver>=1.0.1 in /usr/local/lib/python3.6/dist-packages (from matplotlib!=3.0.0,>=2.0.0->scikit-image) (1.1.0)\n",
            "Requirement already satisfied, skipping upgrade: six>=1.5 in /usr/local/lib/python3.6/dist-packages (from python-dateutil>=2.1->matplotlib!=3.0.0,>=2.0.0->scikit-image) (1.12.0)\n",
            "Requirement already satisfied, skipping upgrade: setuptools in /usr/local/lib/python3.6/dist-packages (from kiwisolver>=1.0.1->matplotlib!=3.0.0,>=2.0.0->scikit-image) (45.1.0)\n",
            "\u001b[31mERROR: imgaug 0.2.9 requires opencv-python, which is not installed.\u001b[0m\n",
            "\u001b[31mERROR: albumentations 0.1.12 requires opencv-python, which is not installed.\u001b[0m\n",
            "\u001b[31mERROR: albumentations 0.1.12 has requirement imgaug<0.2.7,>=0.2.5, but you'll have imgaug 0.2.9 which is incompatible.\u001b[0m\n",
            "Installing collected packages: scikit-image\n",
            "  Attempting uninstall: scikit-image\n",
            "    Found existing installation: scikit-image 0.14.0\n",
            "    Uninstalling scikit-image-0.14.0:\n",
            "      Successfully uninstalled scikit-image-0.14.0\n",
            "Successfully installed scikit-image-0.16.2\n",
            "Collecting motmetrics\n",
            "  Downloading motmetrics-1.2.0-py3-none-any.whl (151 kB)\n",
            "\u001b[K     |████████████████████████████████| 151 kB 79.6 MB/s \n",
            "\u001b[?25hRequirement already satisfied: pytest in /usr/local/lib/python3.6/dist-packages (from motmetrics) (3.6.4)\n",
            "Collecting xmltodict>=0.12.0\n",
            "  Downloading xmltodict-0.12.0-py2.py3-none-any.whl (9.2 kB)\n",
            "Collecting flake8\n",
            "  Downloading flake8-3.7.9-py2.py3-none-any.whl (69 kB)\n",
            "\u001b[K     |████████████████████████████████| 69 kB 10.2 MB/s \n",
            "\u001b[?25hRequirement already satisfied: numpy>=1.12.1 in /usr/local/lib/python3.6/dist-packages (from motmetrics) (1.17.5)\n",
            "Collecting flake8-import-order\n",
            "  Downloading flake8_import_order-0.18.1-py2.py3-none-any.whl (15 kB)\n",
            "Requirement already satisfied: scipy>=0.19.0 in /usr/local/lib/python3.6/dist-packages (from motmetrics) (1.4.1)\n",
            "Collecting pytest-benchmark\n",
            "  Downloading pytest_benchmark-3.2.3-py2.py3-none-any.whl (49 kB)\n",
            "\u001b[K     |████████████████████████████████| 49 kB 7.9 MB/s \n",
            "\u001b[?25hRequirement already satisfied: pandas>=0.23.1 in /usr/local/lib/python3.6/dist-packages (from motmetrics) (0.25.3)\n",
            "Requirement already satisfied: pluggy<0.8,>=0.5 in /usr/local/lib/python3.6/dist-packages (from pytest->motmetrics) (0.7.1)\n",
            "Requirement already satisfied: py>=1.5.0 in /usr/local/lib/python3.6/dist-packages (from pytest->motmetrics) (1.8.1)\n",
            "Requirement already satisfied: more-itertools>=4.0.0 in /usr/local/lib/python3.6/dist-packages (from pytest->motmetrics) (8.2.0)\n",
            "Requirement already satisfied: attrs>=17.4.0 in /usr/local/lib/python3.6/dist-packages (from pytest->motmetrics) (19.3.0)\n",
            "Requirement already satisfied: atomicwrites>=1.0 in /usr/local/lib/python3.6/dist-packages (from pytest->motmetrics) (1.3.0)\n",
            "Requirement already satisfied: setuptools in /usr/local/lib/python3.6/dist-packages (from pytest->motmetrics) (45.1.0)\n",
            "Requirement already satisfied: six>=1.10.0 in /usr/local/lib/python3.6/dist-packages (from pytest->motmetrics) (1.12.0)\n",
            "Collecting pyflakes<2.2.0,>=2.1.0\n",
            "  Downloading pyflakes-2.1.1-py2.py3-none-any.whl (59 kB)\n",
            "\u001b[K     |████████████████████████████████| 59 kB 10.2 MB/s \n",
            "\u001b[?25hCollecting mccabe<0.7.0,>=0.6.0\n",
            "  Downloading mccabe-0.6.1-py2.py3-none-any.whl (8.6 kB)\n",
            "Collecting pycodestyle<2.6.0,>=2.5.0\n",
            "  Downloading pycodestyle-2.5.0-py2.py3-none-any.whl (51 kB)\n",
            "\u001b[K     |████████████████████████████████| 51 kB 10.6 MB/s \n",
            "\u001b[?25hRequirement already satisfied: entrypoints<0.4.0,>=0.3.0 in /usr/local/lib/python3.6/dist-packages (from flake8->motmetrics) (0.3)\n",
            "Collecting py-cpuinfo\n",
            "  Downloading py-cpuinfo-5.0.0.tar.gz (82 kB)\n",
            "\u001b[K     |████████████████████████████████| 82 kB 369 kB/s \n",
            "\u001b[?25hRequirement already satisfied: pytz>=2017.2 in /usr/local/lib/python3.6/dist-packages (from pandas>=0.23.1->motmetrics) (2018.9)\n",
            "Requirement already satisfied: python-dateutil>=2.6.1 in /usr/local/lib/python3.6/dist-packages (from pandas>=0.23.1->motmetrics) (2.6.1)\n",
            "Building wheels for collected packages: py-cpuinfo\n",
            "  Building wheel for py-cpuinfo (setup.py) ... \u001b[?25l\u001b[?25hdone\n",
            "  Created wheel for py-cpuinfo: filename=py_cpuinfo-5.0.0-py3-none-any.whl size=18682 sha256=12aec803444fb2639b0258bbfe56f8f66307aeb9b88fc0826f26c2968992074c\n",
            "  Stored in directory: /root/.cache/pip/wheels/e6/54/db/65176a1697a583d8ec5f90510f6faab11cda739d0e4f0ba2ea\n",
            "Successfully built py-cpuinfo\n",
            "\u001b[31mERROR: pytest-benchmark 3.2.3 has requirement pytest>=3.8, but you'll have pytest 3.6.4 which is incompatible.\u001b[0m\n",
            "Installing collected packages: xmltodict, pyflakes, mccabe, pycodestyle, flake8, flake8-import-order, py-cpuinfo, pytest-benchmark, motmetrics\n",
            "Successfully installed flake8-3.7.9 flake8-import-order-0.18.1 mccabe-0.6.1 motmetrics-1.2.0 py-cpuinfo-5.0.0 pycodestyle-2.5.0 pyflakes-2.1.1 pytest-benchmark-3.2.3 xmltodict-0.12.0\n"
          ],
          "name": "stdout"
        }
      ]
    },
    {
      "cell_type": "markdown",
      "metadata": {
        "id": "wBNnLur8QhqK",
        "colab_type": "text"
      },
      "source": [
        "# Mount Drive files"
      ]
    },
    {
      "cell_type": "code",
      "metadata": {
        "id": "ArPrwKeVQfBf",
        "colab_type": "code",
        "outputId": "279022b5-f5b7-4539-e4c4-826af09b39cb",
        "colab": {
          "base_uri": "https://localhost:8080/",
          "height": 122
        }
      },
      "source": [
        "from google.colab import drive\n",
        "drive.mount('/content/gdrive/')"
      ],
      "execution_count": 0,
      "outputs": [
        {
          "output_type": "stream",
          "text": [
            "Go to this URL in a browser: https://accounts.google.com/o/oauth2/auth?client_id=947318989803-6bn6qk8qdgf4n4g3pfee6491hc0brc4i.apps.googleusercontent.com&redirect_uri=urn%3aietf%3awg%3aoauth%3a2.0%3aoob&response_type=code&scope=email%20https%3a%2f%2fwww.googleapis.com%2fauth%2fdocs.test%20https%3a%2f%2fwww.googleapis.com%2fauth%2fdrive%20https%3a%2f%2fwww.googleapis.com%2fauth%2fdrive.photos.readonly%20https%3a%2f%2fwww.googleapis.com%2fauth%2fpeopleapi.readonly\n",
            "\n",
            "Enter your authorization code:\n",
            "··········\n",
            "Mounted at /content/gdrive/\n"
          ],
          "name": "stdout"
        }
      ]
    },
    {
      "cell_type": "markdown",
      "metadata": {
        "id": "zd00WHqZpe-N",
        "colab_type": "text"
      },
      "source": [
        "# Download MOT2015 Benchmark of MOT Challenge - data "
      ]
    },
    {
      "cell_type": "code",
      "metadata": {
        "id": "jdQgbrvGpq0K",
        "colab_type": "code",
        "colab": {}
      },
      "source": [
        "!wget https://motchallenge.net/data/2DMOT2015.zip\n",
        "!unzip 2DMOT2015.zip\n",
        "!rm 2DMOT2015.zip"
      ],
      "execution_count": 0,
      "outputs": []
    },
    {
      "cell_type": "markdown",
      "metadata": {
        "id": "LQBbdIYapHWO",
        "colab_type": "text"
      },
      "source": [
        "# Import libraries and functions for processing"
      ]
    },
    {
      "cell_type": "code",
      "metadata": {
        "id": "Om6tcnPU_oPv",
        "colab_type": "code",
        "colab": {}
      },
      "source": [
        "# You may need to restart your runtime prior to this, to let your installation take effect\n",
        "# Some basic setup:\n",
        "# Setup detectron2 logger\n",
        "import detectron2\n",
        "from detectron2.utils.logger import setup_logger\n",
        "setup_logger()\n",
        "\n",
        "# import some common libraries\n",
        "import numpy as np\n",
        "import cv2\n",
        "import random\n",
        "from google.colab.patches import cv2_imshow\n",
        "\n",
        "# import some common detectron2 utilities\n",
        "from detectron2 import model_zoo\n",
        "from detectron2.engine import DefaultPredictor\n",
        "from detectron2.config import get_cfg\n",
        "from detectron2.utils.visualizer import Visualizer\n",
        "from detectron2.utils import *\n",
        "from detectron2.data import MetadataCatalog\n",
        "from detectron2.evaluation import *"
      ],
      "execution_count": 0,
      "outputs": []
    },
    {
      "cell_type": "markdown",
      "metadata": {
        "id": "vQ7jxhC4qBxW",
        "colab_type": "text"
      },
      "source": [
        "# Example if you entry a video"
      ]
    },
    {
      "cell_type": "code",
      "metadata": {
        "id": "EsjQxhGWgkNo",
        "colab_type": "code",
        "colab": {}
      },
      "source": [
        "# Run frame-by-frame inference demo on this video\n",
        "# Using a model trained on COCO dataset\n",
        "!cd detectron2_repo && python demo/demo.py --config-file configs/COCO-PanopticSegmentation/panoptic_fpn_R_101_3x.yaml --video-input ../ETH-Crossing.mp4 --confidence-threshold 0.6 --output ../ETH-Crossing-output.mkv \\\n",
        "  --opts MODEL.WEIGHTS detectron2://COCO-PanopticSegmentation/panoptic_fpn_R_101_3x/139514519/model_final_cafdb1.pkl"
      ],
      "execution_count": 0,
      "outputs": []
    },
    {
      "cell_type": "markdown",
      "metadata": {
        "id": "kqYUT17042BY",
        "colab_type": "text"
      },
      "source": [
        "# Create symbolic directorys and data directory for save detections files"
      ]
    },
    {
      "cell_type": "code",
      "metadata": {
        "id": "J2OVQ9GoyHJy",
        "colab_type": "code",
        "colab": {}
      },
      "source": [
        "!ln -s 2DMOT2015 benchmark\n",
        "!chmod a+rx benchmark\n",
        "!mkdir detectron2-detections\n",
        "!chmod a+rx detectron2-detections\n",
        "!mkdir data\n",
        "!chmod a+rx data"
      ],
      "execution_count": 0,
      "outputs": []
    },
    {
      "cell_type": "markdown",
      "metadata": {
        "id": "eobgRqSN5cRe",
        "colab_type": "text"
      },
      "source": [
        "# Create utils functions"
      ]
    },
    {
      "cell_type": "code",
      "metadata": {
        "id": "j7KKpjx-7C7G",
        "colab_type": "code",
        "colab": {}
      },
      "source": [
        "class genterate_dt_file:\n",
        "  from detectron2.data import MetadataCatalog\n",
        "\n",
        "  def __init__(self, outs_instances, sequence, cfg):\n",
        "    self.instances = outs_instances\n",
        "    self.seq = sequence\n",
        "    self.cls_names = MetadataCatalog.get(cfg.DATASETS.TRAIN[0]).thing_classes\n",
        "\n",
        "  def filter_classes(self):\n",
        "    \"\"\"\n",
        "    For the moment only for persons, where 'person' is the position 0 of the \n",
        "    classes array, obtain classes_name with MetadataCatalog.get(cfg.DATASETS.TRAIN[0]).thing_classes\n",
        "    of pretrained congiguration.\n",
        "    \"\"\"\n",
        "    frms = len(self.instances)\n",
        "    det_deep = []\n",
        "\n",
        "    if not os.path.exists(\"data/%s\"%(self.seq)):\n",
        "      os.makedirs(\"data/%s\"%(self.seq))\n",
        "\n",
        "    with open(\"data/%s/det.txt\"%(self.seq), 'w') as out_file:\n",
        "      for data in range(frms):\n",
        "        bboxes = self._convert_to_bboxes(self.instances[data])\n",
        "        scores = self.generate_scores(self.instances[data])\n",
        "        classes = self.generate_classes_array(self.instances[data])\n",
        "\n",
        "        bboxes_filter = bboxes.tolist()\n",
        "        scores_filter = scores.tolist()\n",
        "        classes_filter = classes.tolist()\n",
        "        pos = 0\n",
        "\n",
        "        while pos < len(classes_filter):\n",
        "          if classes_filter[pos] != 0:\n",
        "            classes_filter.pop(pos)\n",
        "            bboxes_filter.pop(pos)\n",
        "            scores_filter.pop(pos)\n",
        "          else:\n",
        "            pos += 1\n",
        "\n",
        "        det_persons = len(bboxes_filter)\n",
        "\n",
        "        for id_number in range(det_persons):\n",
        "          frm = data + 1\n",
        "          cord = bboxes_filter[id_number]\n",
        "          bb_left = cord[0] #x0\n",
        "          bb_top = cord[1] #y0\n",
        "          bb_width = cord[2] - cord[0]\n",
        "          bb_height = cord[3] - cord[1]\n",
        "          scre = scores_filter[id_number]\n",
        "\n",
        "          print('%d,-1,%.3f,%.3f,%.3f,%.3f,%.6f,-1,-1,-1'%(frm, bb_left, \n",
        "                                                           bb_top, bb_width, \n",
        "                                                           bb_height, \n",
        "                                                           scre), file=out_file)\n",
        "          \n",
        "          tmp = [frm, -1, bb_left, bb_top, bb_width, bb_height, scre, -1, -1, -1]\n",
        "          det_deep.append(tmp)\n",
        "      \n",
        "      det_deep = np.array(det_deep)\n",
        "      np.save(\"data/%s/det_deep\"%(self.seq), det_deep)\n",
        "          \n",
        "  def default(self):\n",
        "    \"\"\"\n",
        "    Generate dt file with all classes detections\n",
        "    \"\"\"\n",
        "    frms = len(self.instances)\n",
        "\n",
        "    if not os.path.exists(\"data/%s\"%(self.seq)):\n",
        "      os.makedirs(\"data/%s\"%(self.seq))\n",
        "\n",
        "    with open(\"data/%s/det.txt\"%(self.seq), 'w') as out_file:\n",
        "      for data in range(frms):\n",
        "        bboxes = self._convert_to_bboxes(self.instances[data])\n",
        "        scores = self.generate_scores(self.instances[data])\n",
        "        det = len(bboxes)\n",
        "\n",
        "        for id_number in range(det):\n",
        "          frm = data + 1\n",
        "          cord = bboxes[id_number]\n",
        "          bb_left = cord[0] #x0\n",
        "          bb_top = cord[1] #y0\n",
        "          bb_width = cord[2] - cord[0]\n",
        "          bb_height = cord[3] - cord[1]\n",
        "          scre = scores[id_number]\n",
        "\n",
        "          print('%d,-1,%.3f,%.3f,%.3f,%.3f,%.6f,-1,-1,-1'%(frm, bb_left, \n",
        "                                                           bb_top, bb_width, \n",
        "                                                           bb_height, \n",
        "                                                           scre), file=out_file)\n",
        "  \n",
        "  def _convert_to_bboxes(self, instances_perframe):\n",
        "    \"\"\"\n",
        "    :param instances_perframe: Number of instances per frame given by DefaultPredictor\n",
        "\n",
        "    :return bboxes: Bounding boxes of each instance per frame\n",
        "    \"\"\"\n",
        "    from detectron2.utils.visualizer import Visualizer\n",
        "\n",
        "    bboxes = instances_perframe.pred_boxes if instances_perframe.has('pred_boxes') else None\n",
        "    bboxes = Visualizer._convert_boxes(Visualizer.__init__ ,bboxes.to('cpu'))\n",
        "\n",
        "    return bboxes\n",
        "\n",
        "  def generate_scores(self, instances_perframe):\n",
        "    \"\"\"\n",
        "    :param instances_perframe: Number of instances per frame given by DefaultPredictor\n",
        "\n",
        "    return scores: scores of each instance per frame\n",
        "    \"\"\"\n",
        "    import numpy as np\n",
        "\n",
        "    scores = instances_perframe.scores\n",
        "    scores = scores.to('cpu').numpy()\n",
        "\n",
        "    return np.asarray(scores)\n",
        "\n",
        "  def generate_classes_array(self, instances_perframe):\n",
        "    \"\"\"\n",
        "    :param: instances_perframe: Number of instances per frame given by DefaultPredictor\n",
        "\n",
        "    :return classes: clasees in array format whit the number of class name like\n",
        "    'persons' = 0.\n",
        "    \"\"\"\n",
        "    classes = instances_perframe.pred_classes\n",
        "    classes = classes.to('cpu').numpy()\n",
        "\n",
        "    return np.asarray(classes)"
      ],
      "execution_count": 0,
      "outputs": []
    },
    {
      "cell_type": "markdown",
      "metadata": {
        "id": "CV5BDgvneZJd",
        "colab_type": "text"
      },
      "source": [
        "# Proof frame by frame with predictor pretrained and Sort "
      ]
    },
    {
      "cell_type": "code",
      "metadata": {
        "id": "VvnU7UIyKqW3",
        "colab_type": "code",
        "outputId": "25f1b8d3-8240-48ef-8767-ebf42c4b818f",
        "colab": {
          "base_uri": "https://localhost:8080/",
          "height": 102
        }
      },
      "source": [
        "import glob\n",
        "import os\n",
        "from time import time\n",
        "from sort_repo.sort import *\n",
        "import matplotlib.pyplot as plt\n",
        "import matplotlib.patches as patches\n",
        "\n",
        "sequences = ['TUD-Campus']\n",
        "phase = 'train'\n",
        "total_time = 0.0\n",
        "total_frames = 0\n",
        "\n",
        "# Parameters of detectron2\n",
        "cfg = get_cfg()\n",
        "cfg_file_name = \"COCO-InstanceSegmentation/mask_rcnn_R_50_FPN_3x.yaml\"\n",
        "cfg.merge_from_file(model_zoo.get_config_file(cfg_file_name))\n",
        "cfg.MODEL.ROI_HEADS.SCORE_THRESH_TEST = 0.7\n",
        "cfg.MODEL.WEIGHTS = model_zoo.get_checkpoint_url(cfg_file_name)\n",
        "\n",
        "predictor = DefaultPredictor(cfg)\n",
        "\n",
        "################################################################################\n",
        "for seq in sequences:\n",
        "  OUTS = []\n",
        "  frames_number = len(glob.glob(\"2DMOT2015/%s/%s/img1/*.jpg\"%(phase, seq)))\n",
        "  frame = 0\n",
        "  start_time = time.time()\n",
        "################################################################################\n",
        "#                            Obtain detections                                 #\n",
        "################################################################################\n",
        "  print('Obtain detections of %s.'%(seq))\n",
        "\n",
        "  for frame in range(frames_number):\n",
        "    frame += 1\n",
        "    fn = 'benchmark/%s/%s/img1/%06d.jpg'%(phase, seq, frame)\n",
        "    im = cv2.imread(fn)\n",
        "\n",
        "    outputs = predictor(im)\n",
        "    OUTS.append(outputs['instances'])\n",
        "\n",
        "    v = Visualizer(im[:, :, ::-1], \n",
        "                   MetadataCatalog.get(cfg.DATASETS.TRAIN[0]), scale=1.2)\n",
        "    v = v.draw_instance_predictions(outputs['instances'].to(\"cpu\"))\n",
        "\n",
        "    if not os.path.exists('detectron2-detections/%s'%(seq)):\n",
        "      os.makedirs('detectron2-detections/%s'%(seq))\n",
        "    \n",
        "    path = 'detectron2-detections/%s'%(seq)\n",
        "    file_name = '%06d.jpg'%(frame)\n",
        "    cv2.imwrite(os.path.join(path, file_name), v.get_image()[:, :, ::-1])\n",
        "\n",
        "  dt_file = genterate_dt_file(OUTS, seq, cfg)\n",
        "  # Generate only dt file with persons detections, see Class genterate_dt_file\n",
        "  # dt_file.default()\n",
        "  dt_file.filter_classes()\n",
        "################################################################################\n",
        "#                                 Sort Phase                                   #\n",
        "################################################################################\n",
        "  if not os.path.exists('output'):\n",
        "    os.makedirs('output')\n",
        "  \n",
        "  sort_time = 0.0\n",
        "  # Create instance of the Sort tracker\n",
        "  mot_tracker = Sort()\n",
        "  seq_dets = np.loadtxt('data/%s/det.txt'%(seq), delimiter=',')\n",
        "\n",
        "  with open('output/%s.txt'%(seq), 'w') as out_file:\n",
        "    print(\"Processing sort %s.\"%(seq))\n",
        "    for frame_sort in range(int(seq_dets[:, 0].max())):\n",
        "      frame_sort += 1\n",
        "      dets = seq_dets[seq_dets[:, 0]==frame_sort, 2:7]\n",
        "      # Convert to [x1, y1, w, h] to [x1, y1, x2, y2]\n",
        "      dets[:, 2:4] += dets[:, 0:2]\n",
        "      total_frames += 1\n",
        "      \n",
        "      start_time_sort = time.time()\n",
        "      trackers = mot_tracker.update(dets)\n",
        "      cycle_sort = time.time() - start_time_sort\n",
        "      sort_time += cycle_sort\n",
        "\n",
        "      for d in trackers:\n",
        "        print('%d,%d,%.2f,%.2f,%.2f,%.2f,1,-1,-1,-1'%(frame_sort,d[4],d[0],d[1],d[2]-d[0],d[3]-d[1]),file=out_file)\n",
        "\n",
        "    cycle_time = time.time() - start_time\n",
        "    total_time += cycle_time\n",
        "################################################################################\n",
        "\n",
        "print(\"Total Sort Tracking took: %.3f for %d frames or %.1f FPS\"%(sort_time, total_frames, total_frames / sort_time))\n",
        "print(\" LTotal runtime: %.4f seg for %d sequences.\"%(total_time, len(sequences)))"
      ],
      "execution_count": 0,
      "outputs": [
        {
          "output_type": "stream",
          "text": [
            "model_final_f10217.pkl: 178MB [00:08, 21.3MB/s]                           \n"
          ],
          "name": "stderr"
        },
        {
          "output_type": "stream",
          "text": [
            "Obtain detections of TUD-Campus.\n",
            "Processing sort TUD-Campus.\n",
            "Total Sort Tracking took: 0.566 for 71 frames or 125.5 FPS\n",
            " LTotal runtime: 18.3212 seg for 1 sequences.\n"
          ],
          "name": "stdout"
        }
      ]
    },
    {
      "cell_type": "markdown",
      "metadata": {
        "id": "weR8W8n8e0QO",
        "colab_type": "text"
      },
      "source": [
        "# Generate metrics for sequences with Sort"
      ]
    },
    {
      "cell_type": "code",
      "metadata": {
        "id": "-nG8fuh6BLHG",
        "colab_type": "code",
        "outputId": "ff378880-6a26-462b-fe9d-75c648e53ff6",
        "colab": {
          "base_uri": "https://localhost:8080/",
          "height": 238
        }
      },
      "source": [
        "!python3 -m motmetrics.apps.eval_motchallenge 2DMOT2015/train output"
      ],
      "execution_count": 0,
      "outputs": [
        {
          "output_type": "stream",
          "text": [
            "10:19:07 INFO - Found 11 groundtruths and 1 test files.\n",
            "10:19:07 INFO - Available LAP solvers ['scipy']\n",
            "10:19:07 INFO - Default LAP solver 'scipy'\n",
            "10:19:07 INFO - Loading files.\n",
            "10:19:07 INFO - NumExpr defaulting to 2 threads.\n",
            "10:19:07 INFO - Comparing TUD-Campus...\n",
            "10:19:08 INFO - Running metrics\n",
            "10:19:08 INFO - partials: 0.071 seconds.\n",
            "10:19:08 INFO - mergeOverall: 0.076 seconds.\n",
            "            IDF1   IDP   IDR  Rcll  Prcn GT MT PT ML  FP FN IDs  FM  MOTA  MOTP IDt IDa IDm\n",
            "TUD-Campus 53.4% 48.3% 59.6% 83.6% 67.7%  8  5  3  0 143 59   8  10 41.5% 0.255   2   6   0\n",
            "OVERALL    53.4% 48.3% 59.6% 83.6% 67.7%  8  5  3  0 143 59   8  10 41.5% 0.255   2   6   0\n",
            "10:19:08 INFO - Completed\n"
          ],
          "name": "stdout"
        }
      ]
    },
    {
      "cell_type": "markdown",
      "metadata": {
        "id": "o0L6Fk_MidVW",
        "colab_type": "text"
      },
      "source": [
        "# Install Deep Sort, and use with same detections of Detectron2"
      ]
    },
    {
      "cell_type": "code",
      "metadata": {
        "id": "_nbHpUd6iikZ",
        "colab_type": "code",
        "outputId": "868d138d-8521-4631-97d6-2db6dd9e80a5",
        "colab": {
          "base_uri": "https://localhost:8080/",
          "height": 102
        }
      },
      "source": [
        "!git clone https://github.com/nwojke/deep_sort.git deep_sort_repo"
      ],
      "execution_count": 0,
      "outputs": [
        {
          "output_type": "stream",
          "text": [
            "Cloning into 'deep_sort_repo'...\n",
            "remote: Enumerating objects: 141, done.\u001b[K\n",
            "Receiving objects:   0% (1/141)   \rReceiving objects:   1% (2/141)   \rremote: Total 141 (delta 0), reused 0 (delta 0), pack-reused 141\u001b[K\n",
            "Receiving objects:   2% (3/141)   \rReceiving objects:   3% (5/141)   \rReceiving objects:   4% (6/141)   \rReceiving objects:   5% (8/141)   \rReceiving objects:   6% (9/141)   \rReceiving objects:   7% (10/141)   \rReceiving objects:   8% (12/141)   \rReceiving objects:   9% (13/141)   \rReceiving objects:  10% (15/141)   \rReceiving objects:  11% (16/141)   \rReceiving objects:  12% (17/141)   \rReceiving objects:  13% (19/141)   \rReceiving objects:  14% (20/141)   \rReceiving objects:  15% (22/141)   \rReceiving objects:  16% (23/141)   \rReceiving objects:  17% (24/141)   \rReceiving objects:  18% (26/141)   \rReceiving objects:  19% (27/141)   \rReceiving objects:  20% (29/141)   \rReceiving objects:  21% (30/141)   \rReceiving objects:  22% (32/141)   \rReceiving objects:  23% (33/141)   \rReceiving objects:  24% (34/141)   \rReceiving objects:  25% (36/141)   \rReceiving objects:  26% (37/141)   \rReceiving objects:  27% (39/141)   \rReceiving objects:  28% (40/141)   \rReceiving objects:  29% (41/141)   \rReceiving objects:  30% (43/141)   \rReceiving objects:  31% (44/141)   \rReceiving objects:  32% (46/141)   \rReceiving objects:  33% (47/141)   \rReceiving objects:  34% (48/141)   \rReceiving objects:  35% (50/141)   \rReceiving objects:  36% (51/141)   \rReceiving objects:  37% (53/141)   \rReceiving objects:  38% (54/141)   \rReceiving objects:  39% (55/141)   \rReceiving objects:  40% (57/141)   \rReceiving objects:  41% (58/141)   \rReceiving objects:  42% (60/141)   \rReceiving objects:  43% (61/141)   \rReceiving objects:  44% (63/141)   \rReceiving objects:  45% (64/141)   \rReceiving objects:  46% (65/141)   \rReceiving objects:  47% (67/141)   \rReceiving objects:  48% (68/141)   \rReceiving objects:  49% (70/141)   \rReceiving objects:  50% (71/141)   \rReceiving objects:  51% (72/141)   \rReceiving objects:  52% (74/141)   \rReceiving objects:  53% (75/141)   \rReceiving objects:  54% (77/141)   \rReceiving objects:  55% (78/141)   \rReceiving objects:  56% (79/141)   \rReceiving objects:  57% (81/141)   \rReceiving objects:  58% (82/141)   \rReceiving objects:  59% (84/141)   \rReceiving objects:  60% (85/141)   \rReceiving objects:  61% (87/141)   \rReceiving objects:  62% (88/141)   \rReceiving objects:  63% (89/141)   \rReceiving objects:  64% (91/141)   \rReceiving objects:  65% (92/141)   \rReceiving objects:  66% (94/141)   \rReceiving objects:  67% (95/141)   \rReceiving objects:  68% (96/141)   \rReceiving objects:  69% (98/141)   \rReceiving objects:  70% (99/141)   \rReceiving objects:  71% (101/141)   \rReceiving objects:  72% (102/141)   \rReceiving objects:  73% (103/141)   \rReceiving objects:  74% (105/141)   \rReceiving objects:  75% (106/141)   \rReceiving objects:  76% (108/141)   \rReceiving objects:  77% (109/141)   \rReceiving objects:  78% (110/141)   \rReceiving objects:  79% (112/141)   \rReceiving objects:  80% (113/141)   \rReceiving objects:  81% (115/141)   \rReceiving objects:  82% (116/141)   \rReceiving objects:  83% (118/141)   \rReceiving objects:  84% (119/141)   \rReceiving objects:  85% (120/141)   \rReceiving objects:  86% (122/141)   \rReceiving objects:  87% (123/141)   \rReceiving objects:  88% (125/141)   \rReceiving objects:  89% (126/141)   \rReceiving objects:  90% (127/141)   \rReceiving objects:  91% (129/141)   \rReceiving objects:  92% (130/141)   \rReceiving objects:  93% (132/141)   \rReceiving objects:  94% (133/141)   \rReceiving objects:  95% (134/141)   \rReceiving objects:  96% (136/141)   \rReceiving objects:  97% (137/141)   \rReceiving objects:  98% (139/141)   \rReceiving objects:  99% (140/141)   \rReceiving objects: 100% (141/141)   \rReceiving objects: 100% (141/141), 66.79 KiB | 22.26 MiB/s, done.\n",
            "Resolving deltas:   0% (0/78)   \rResolving deltas:   1% (1/78)   \rResolving deltas:   5% (4/78)   \rResolving deltas:   8% (7/78)   \rResolving deltas:  11% (9/78)   \rResolving deltas:  14% (11/78)   \rResolving deltas:  17% (14/78)   \rResolving deltas:  28% (22/78)   \rResolving deltas:  30% (24/78)   \rResolving deltas:  41% (32/78)   \rResolving deltas:  44% (35/78)   \rResolving deltas:  48% (38/78)   \rResolving deltas:  57% (45/78)   \rResolving deltas:  58% (46/78)   \rResolving deltas:  60% (47/78)   \rResolving deltas: 100% (78/78)   \rResolving deltas: 100% (78/78), done.\n"
          ],
          "name": "stdout"
        }
      ]
    },
    {
      "cell_type": "code",
      "metadata": {
        "id": "K_uxd4FOsqdf",
        "colab_type": "code",
        "colab": {}
      },
      "source": [
        "# To use the deep_sort_app.py function in google colab, through the way it is \n",
        "# cloned, you need to enter the deep_sort_app.py file and edit the imports so \n",
        "# that they are as follows:\n",
        "#  Line\n",
        "#   10 from .application_util import preprocessing\n",
        "#   11 from .application_util import visualization\n",
        "#   12 from .deep_sort import nn_matching\n",
        "#   13 from .deep_sort.detection import Detection\n",
        "#   14 from .deep_sort.tracker import Tracker\n",
        "#   15 from deep_sort_repo.deep_sort_app import *\n",
        "\n",
        "path = 'benchmark/train/TUD-Campus'\n",
        "dt_file_deep = 'data/TUD-Campus/det_deep.npy'\n",
        "out_file_deep = 'output_deep/TUD-Campus.txt'\n",
        "\n",
        "tmp = gather_sequence_info(path, dt_file_deep)\n",
        "run(path, dt_file_deep, out_file_deep, 0.9, 1.0, 0, 0.1, 100, False)"
      ],
      "execution_count": 0,
      "outputs": []
    },
    {
      "cell_type": "code",
      "metadata": {
        "id": "BMjZcW1UccfK",
        "colab_type": "code",
        "outputId": "be260638-0cf4-4e4a-b633-1eb1546aff8e",
        "colab": {
          "base_uri": "https://localhost:8080/",
          "height": 238
        }
      },
      "source": [
        "!python3 -m motmetrics.apps.eval_motchallenge 2DMOT2015/train output_deep"
      ],
      "execution_count": 0,
      "outputs": [
        {
          "output_type": "stream",
          "text": [
            "10:30:44 INFO - Found 11 groundtruths and 1 test files.\n",
            "10:30:44 INFO - Available LAP solvers ['scipy']\n",
            "10:30:44 INFO - Default LAP solver 'scipy'\n",
            "10:30:44 INFO - Loading files.\n",
            "10:30:44 INFO - NumExpr defaulting to 2 threads.\n",
            "10:30:44 INFO - Comparing TUD-Campus...\n",
            "10:30:44 INFO - Running metrics\n",
            "10:30:44 INFO - partials: 0.064 seconds.\n",
            "10:30:44 INFO - mergeOverall: 0.068 seconds.\n",
            "            IDF1   IDP   IDR  Rcll  Prcn GT MT PT ML FP FN IDs  FM  MOTA  MOTP IDt IDa IDm\n",
            "TUD-Campus 55.8% 56.4% 55.2% 76.6% 78.3%  8  3  5  0 76 84   8  10 53.2% 0.235   2   7   1\n",
            "OVERALL    55.8% 56.4% 55.2% 76.6% 78.3%  8  3  5  0 76 84   8  10 53.2% 0.235   2   7   1\n",
            "10:30:45 INFO - Completed\n"
          ],
          "name": "stdout"
        }
      ]
    },
    {
      "cell_type": "code",
      "metadata": {
        "id": "NLUAXtc_d1U5",
        "colab_type": "code",
        "colab": {}
      },
      "source": [
        ""
      ],
      "execution_count": 0,
      "outputs": []
    }
  ]
}